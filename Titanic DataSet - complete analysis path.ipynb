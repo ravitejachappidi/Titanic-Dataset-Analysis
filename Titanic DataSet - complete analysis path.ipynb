{
 "cells": [
  {
   "cell_type": "markdown",
   "id": "f88f16bf",
   "metadata": {},
   "source": [
    "# Titanic Data Analysis"
   ]
  },
  {
   "cell_type": "code",
   "execution_count": 321,
   "id": "ed79ba63",
   "metadata": {},
   "outputs": [],
   "source": [
    "import numpy as np\n",
    "import pandas as pd\n",
    "import matplotlib.pyplot as plt\n",
    "import seaborn as sns\n",
    "import warnings\n",
    "warnings.filterwarnings(\"ignore\")\n",
    "import re"
   ]
  },
  {
   "cell_type": "code",
   "execution_count": 322,
   "id": "34b47c62",
   "metadata": {},
   "outputs": [],
   "source": [
    "titanic_dataset = pd.read_csv(\"C:\\\\Users\\\\RAVI TEJA\\\\Documents\\\\Data Sets\\\\titanic.csv\")"
   ]
  },
  {
   "cell_type": "code",
   "execution_count": 323,
   "id": "2b0e7a76",
   "metadata": {},
   "outputs": [
    {
     "data": {
      "text/html": [
       "<div>\n",
       "<style scoped>\n",
       "    .dataframe tbody tr th:only-of-type {\n",
       "        vertical-align: middle;\n",
       "    }\n",
       "\n",
       "    .dataframe tbody tr th {\n",
       "        vertical-align: top;\n",
       "    }\n",
       "\n",
       "    .dataframe thead th {\n",
       "        text-align: right;\n",
       "    }\n",
       "</style>\n",
       "<table border=\"1\" class=\"dataframe\">\n",
       "  <thead>\n",
       "    <tr style=\"text-align: right;\">\n",
       "      <th></th>\n",
       "      <th>pclass</th>\n",
       "      <th>survived</th>\n",
       "      <th>name</th>\n",
       "      <th>sex</th>\n",
       "      <th>age</th>\n",
       "      <th>sibsp</th>\n",
       "      <th>parch</th>\n",
       "      <th>ticket</th>\n",
       "      <th>fare</th>\n",
       "      <th>cabin</th>\n",
       "      <th>embarked</th>\n",
       "      <th>boat</th>\n",
       "      <th>body</th>\n",
       "      <th>home.dest</th>\n",
       "    </tr>\n",
       "  </thead>\n",
       "  <tbody>\n",
       "    <tr>\n",
       "      <th>0</th>\n",
       "      <td>1.0</td>\n",
       "      <td>1.0</td>\n",
       "      <td>Allen, Miss. Elisabeth Walton</td>\n",
       "      <td>female</td>\n",
       "      <td>29.0000</td>\n",
       "      <td>0.0</td>\n",
       "      <td>0.0</td>\n",
       "      <td>24160</td>\n",
       "      <td>211.3375</td>\n",
       "      <td>B5</td>\n",
       "      <td>S</td>\n",
       "      <td>2</td>\n",
       "      <td>NaN</td>\n",
       "      <td>St Louis, MO</td>\n",
       "    </tr>\n",
       "    <tr>\n",
       "      <th>1</th>\n",
       "      <td>1.0</td>\n",
       "      <td>1.0</td>\n",
       "      <td>Allison, Master. Hudson Trevor</td>\n",
       "      <td>male</td>\n",
       "      <td>0.9167</td>\n",
       "      <td>1.0</td>\n",
       "      <td>2.0</td>\n",
       "      <td>113781</td>\n",
       "      <td>151.5500</td>\n",
       "      <td>C22 C26</td>\n",
       "      <td>S</td>\n",
       "      <td>11</td>\n",
       "      <td>NaN</td>\n",
       "      <td>Montreal, PQ / Chesterville, ON</td>\n",
       "    </tr>\n",
       "    <tr>\n",
       "      <th>2</th>\n",
       "      <td>1.0</td>\n",
       "      <td>0.0</td>\n",
       "      <td>Allison, Miss. Helen Loraine</td>\n",
       "      <td>female</td>\n",
       "      <td>2.0000</td>\n",
       "      <td>1.0</td>\n",
       "      <td>2.0</td>\n",
       "      <td>113781</td>\n",
       "      <td>151.5500</td>\n",
       "      <td>C22 C26</td>\n",
       "      <td>S</td>\n",
       "      <td>NaN</td>\n",
       "      <td>NaN</td>\n",
       "      <td>Montreal, PQ / Chesterville, ON</td>\n",
       "    </tr>\n",
       "    <tr>\n",
       "      <th>3</th>\n",
       "      <td>1.0</td>\n",
       "      <td>0.0</td>\n",
       "      <td>Allison, Mr. Hudson Joshua Creighton</td>\n",
       "      <td>male</td>\n",
       "      <td>30.0000</td>\n",
       "      <td>1.0</td>\n",
       "      <td>2.0</td>\n",
       "      <td>113781</td>\n",
       "      <td>151.5500</td>\n",
       "      <td>C22 C26</td>\n",
       "      <td>S</td>\n",
       "      <td>NaN</td>\n",
       "      <td>135.0</td>\n",
       "      <td>Montreal, PQ / Chesterville, ON</td>\n",
       "    </tr>\n",
       "    <tr>\n",
       "      <th>4</th>\n",
       "      <td>1.0</td>\n",
       "      <td>0.0</td>\n",
       "      <td>Allison, Mrs. Hudson J C (Bessie Waldo Daniels)</td>\n",
       "      <td>female</td>\n",
       "      <td>25.0000</td>\n",
       "      <td>1.0</td>\n",
       "      <td>2.0</td>\n",
       "      <td>113781</td>\n",
       "      <td>151.5500</td>\n",
       "      <td>C22 C26</td>\n",
       "      <td>S</td>\n",
       "      <td>NaN</td>\n",
       "      <td>NaN</td>\n",
       "      <td>Montreal, PQ / Chesterville, ON</td>\n",
       "    </tr>\n",
       "  </tbody>\n",
       "</table>\n",
       "</div>"
      ],
      "text/plain": [
       "   pclass  survived                                             name     sex  \\\n",
       "0     1.0       1.0                    Allen, Miss. Elisabeth Walton  female   \n",
       "1     1.0       1.0                   Allison, Master. Hudson Trevor    male   \n",
       "2     1.0       0.0                     Allison, Miss. Helen Loraine  female   \n",
       "3     1.0       0.0             Allison, Mr. Hudson Joshua Creighton    male   \n",
       "4     1.0       0.0  Allison, Mrs. Hudson J C (Bessie Waldo Daniels)  female   \n",
       "\n",
       "       age  sibsp  parch  ticket      fare    cabin embarked boat   body  \\\n",
       "0  29.0000    0.0    0.0   24160  211.3375       B5        S    2    NaN   \n",
       "1   0.9167    1.0    2.0  113781  151.5500  C22 C26        S   11    NaN   \n",
       "2   2.0000    1.0    2.0  113781  151.5500  C22 C26        S  NaN    NaN   \n",
       "3  30.0000    1.0    2.0  113781  151.5500  C22 C26        S  NaN  135.0   \n",
       "4  25.0000    1.0    2.0  113781  151.5500  C22 C26        S  NaN    NaN   \n",
       "\n",
       "                         home.dest  \n",
       "0                     St Louis, MO  \n",
       "1  Montreal, PQ / Chesterville, ON  \n",
       "2  Montreal, PQ / Chesterville, ON  \n",
       "3  Montreal, PQ / Chesterville, ON  \n",
       "4  Montreal, PQ / Chesterville, ON  "
      ]
     },
     "execution_count": 323,
     "metadata": {},
     "output_type": "execute_result"
    }
   ],
   "source": [
    "titanic_dataset.head()"
   ]
  },
  {
   "cell_type": "code",
   "execution_count": 324,
   "id": "9dfc78fc",
   "metadata": {},
   "outputs": [
    {
     "data": {
      "text/plain": [
       "(1310, 14)"
      ]
     },
     "execution_count": 324,
     "metadata": {},
     "output_type": "execute_result"
    }
   ],
   "source": [
    "titanic_dataset.shape"
   ]
  },
  {
   "cell_type": "code",
   "execution_count": 325,
   "id": "00d03c2e",
   "metadata": {},
   "outputs": [
    {
     "data": {
      "text/html": [
       "<div>\n",
       "<style scoped>\n",
       "    .dataframe tbody tr th:only-of-type {\n",
       "        vertical-align: middle;\n",
       "    }\n",
       "\n",
       "    .dataframe tbody tr th {\n",
       "        vertical-align: top;\n",
       "    }\n",
       "\n",
       "    .dataframe thead th {\n",
       "        text-align: right;\n",
       "    }\n",
       "</style>\n",
       "<table border=\"1\" class=\"dataframe\">\n",
       "  <thead>\n",
       "    <tr style=\"text-align: right;\">\n",
       "      <th></th>\n",
       "      <th>pclass</th>\n",
       "      <th>survived</th>\n",
       "      <th>name</th>\n",
       "      <th>sex</th>\n",
       "      <th>age</th>\n",
       "      <th>sibsp</th>\n",
       "      <th>parch</th>\n",
       "      <th>ticket</th>\n",
       "      <th>fare</th>\n",
       "      <th>cabin</th>\n",
       "      <th>embarked</th>\n",
       "      <th>boat</th>\n",
       "      <th>body</th>\n",
       "      <th>home.dest</th>\n",
       "    </tr>\n",
       "  </thead>\n",
       "  <tbody>\n",
       "    <tr>\n",
       "      <th>count</th>\n",
       "      <td>1309.000000</td>\n",
       "      <td>1309.000000</td>\n",
       "      <td>1309</td>\n",
       "      <td>1309</td>\n",
       "      <td>1046.000000</td>\n",
       "      <td>1309.000000</td>\n",
       "      <td>1309.000000</td>\n",
       "      <td>1309</td>\n",
       "      <td>1308.000000</td>\n",
       "      <td>295</td>\n",
       "      <td>1307</td>\n",
       "      <td>486</td>\n",
       "      <td>121.000000</td>\n",
       "      <td>745</td>\n",
       "    </tr>\n",
       "    <tr>\n",
       "      <th>unique</th>\n",
       "      <td>NaN</td>\n",
       "      <td>NaN</td>\n",
       "      <td>1307</td>\n",
       "      <td>2</td>\n",
       "      <td>NaN</td>\n",
       "      <td>NaN</td>\n",
       "      <td>NaN</td>\n",
       "      <td>929</td>\n",
       "      <td>NaN</td>\n",
       "      <td>186</td>\n",
       "      <td>3</td>\n",
       "      <td>27</td>\n",
       "      <td>NaN</td>\n",
       "      <td>369</td>\n",
       "    </tr>\n",
       "    <tr>\n",
       "      <th>top</th>\n",
       "      <td>NaN</td>\n",
       "      <td>NaN</td>\n",
       "      <td>Connolly, Miss. Kate</td>\n",
       "      <td>male</td>\n",
       "      <td>NaN</td>\n",
       "      <td>NaN</td>\n",
       "      <td>NaN</td>\n",
       "      <td>CA. 2343</td>\n",
       "      <td>NaN</td>\n",
       "      <td>C23 C25 C27</td>\n",
       "      <td>S</td>\n",
       "      <td>13</td>\n",
       "      <td>NaN</td>\n",
       "      <td>New York, NY</td>\n",
       "    </tr>\n",
       "    <tr>\n",
       "      <th>freq</th>\n",
       "      <td>NaN</td>\n",
       "      <td>NaN</td>\n",
       "      <td>2</td>\n",
       "      <td>843</td>\n",
       "      <td>NaN</td>\n",
       "      <td>NaN</td>\n",
       "      <td>NaN</td>\n",
       "      <td>11</td>\n",
       "      <td>NaN</td>\n",
       "      <td>6</td>\n",
       "      <td>914</td>\n",
       "      <td>39</td>\n",
       "      <td>NaN</td>\n",
       "      <td>64</td>\n",
       "    </tr>\n",
       "    <tr>\n",
       "      <th>mean</th>\n",
       "      <td>2.294882</td>\n",
       "      <td>0.381971</td>\n",
       "      <td>NaN</td>\n",
       "      <td>NaN</td>\n",
       "      <td>29.881135</td>\n",
       "      <td>0.498854</td>\n",
       "      <td>0.385027</td>\n",
       "      <td>NaN</td>\n",
       "      <td>33.295479</td>\n",
       "      <td>NaN</td>\n",
       "      <td>NaN</td>\n",
       "      <td>NaN</td>\n",
       "      <td>160.809917</td>\n",
       "      <td>NaN</td>\n",
       "    </tr>\n",
       "    <tr>\n",
       "      <th>std</th>\n",
       "      <td>0.837836</td>\n",
       "      <td>0.486055</td>\n",
       "      <td>NaN</td>\n",
       "      <td>NaN</td>\n",
       "      <td>14.413500</td>\n",
       "      <td>1.041658</td>\n",
       "      <td>0.865560</td>\n",
       "      <td>NaN</td>\n",
       "      <td>51.758668</td>\n",
       "      <td>NaN</td>\n",
       "      <td>NaN</td>\n",
       "      <td>NaN</td>\n",
       "      <td>97.696922</td>\n",
       "      <td>NaN</td>\n",
       "    </tr>\n",
       "    <tr>\n",
       "      <th>min</th>\n",
       "      <td>1.000000</td>\n",
       "      <td>0.000000</td>\n",
       "      <td>NaN</td>\n",
       "      <td>NaN</td>\n",
       "      <td>0.166700</td>\n",
       "      <td>0.000000</td>\n",
       "      <td>0.000000</td>\n",
       "      <td>NaN</td>\n",
       "      <td>0.000000</td>\n",
       "      <td>NaN</td>\n",
       "      <td>NaN</td>\n",
       "      <td>NaN</td>\n",
       "      <td>1.000000</td>\n",
       "      <td>NaN</td>\n",
       "    </tr>\n",
       "    <tr>\n",
       "      <th>25%</th>\n",
       "      <td>2.000000</td>\n",
       "      <td>0.000000</td>\n",
       "      <td>NaN</td>\n",
       "      <td>NaN</td>\n",
       "      <td>21.000000</td>\n",
       "      <td>0.000000</td>\n",
       "      <td>0.000000</td>\n",
       "      <td>NaN</td>\n",
       "      <td>7.895800</td>\n",
       "      <td>NaN</td>\n",
       "      <td>NaN</td>\n",
       "      <td>NaN</td>\n",
       "      <td>72.000000</td>\n",
       "      <td>NaN</td>\n",
       "    </tr>\n",
       "    <tr>\n",
       "      <th>50%</th>\n",
       "      <td>3.000000</td>\n",
       "      <td>0.000000</td>\n",
       "      <td>NaN</td>\n",
       "      <td>NaN</td>\n",
       "      <td>28.000000</td>\n",
       "      <td>0.000000</td>\n",
       "      <td>0.000000</td>\n",
       "      <td>NaN</td>\n",
       "      <td>14.454200</td>\n",
       "      <td>NaN</td>\n",
       "      <td>NaN</td>\n",
       "      <td>NaN</td>\n",
       "      <td>155.000000</td>\n",
       "      <td>NaN</td>\n",
       "    </tr>\n",
       "    <tr>\n",
       "      <th>75%</th>\n",
       "      <td>3.000000</td>\n",
       "      <td>1.000000</td>\n",
       "      <td>NaN</td>\n",
       "      <td>NaN</td>\n",
       "      <td>39.000000</td>\n",
       "      <td>1.000000</td>\n",
       "      <td>0.000000</td>\n",
       "      <td>NaN</td>\n",
       "      <td>31.275000</td>\n",
       "      <td>NaN</td>\n",
       "      <td>NaN</td>\n",
       "      <td>NaN</td>\n",
       "      <td>256.000000</td>\n",
       "      <td>NaN</td>\n",
       "    </tr>\n",
       "    <tr>\n",
       "      <th>max</th>\n",
       "      <td>3.000000</td>\n",
       "      <td>1.000000</td>\n",
       "      <td>NaN</td>\n",
       "      <td>NaN</td>\n",
       "      <td>80.000000</td>\n",
       "      <td>8.000000</td>\n",
       "      <td>9.000000</td>\n",
       "      <td>NaN</td>\n",
       "      <td>512.329200</td>\n",
       "      <td>NaN</td>\n",
       "      <td>NaN</td>\n",
       "      <td>NaN</td>\n",
       "      <td>328.000000</td>\n",
       "      <td>NaN</td>\n",
       "    </tr>\n",
       "  </tbody>\n",
       "</table>\n",
       "</div>"
      ],
      "text/plain": [
       "             pclass     survived                  name   sex          age  \\\n",
       "count   1309.000000  1309.000000                  1309  1309  1046.000000   \n",
       "unique          NaN          NaN                  1307     2          NaN   \n",
       "top             NaN          NaN  Connolly, Miss. Kate  male          NaN   \n",
       "freq            NaN          NaN                     2   843          NaN   \n",
       "mean       2.294882     0.381971                   NaN   NaN    29.881135   \n",
       "std        0.837836     0.486055                   NaN   NaN    14.413500   \n",
       "min        1.000000     0.000000                   NaN   NaN     0.166700   \n",
       "25%        2.000000     0.000000                   NaN   NaN    21.000000   \n",
       "50%        3.000000     0.000000                   NaN   NaN    28.000000   \n",
       "75%        3.000000     1.000000                   NaN   NaN    39.000000   \n",
       "max        3.000000     1.000000                   NaN   NaN    80.000000   \n",
       "\n",
       "              sibsp        parch    ticket         fare        cabin embarked  \\\n",
       "count   1309.000000  1309.000000      1309  1308.000000          295     1307   \n",
       "unique          NaN          NaN       929          NaN          186        3   \n",
       "top             NaN          NaN  CA. 2343          NaN  C23 C25 C27        S   \n",
       "freq            NaN          NaN        11          NaN            6      914   \n",
       "mean       0.498854     0.385027       NaN    33.295479          NaN      NaN   \n",
       "std        1.041658     0.865560       NaN    51.758668          NaN      NaN   \n",
       "min        0.000000     0.000000       NaN     0.000000          NaN      NaN   \n",
       "25%        0.000000     0.000000       NaN     7.895800          NaN      NaN   \n",
       "50%        0.000000     0.000000       NaN    14.454200          NaN      NaN   \n",
       "75%        1.000000     0.000000       NaN    31.275000          NaN      NaN   \n",
       "max        8.000000     9.000000       NaN   512.329200          NaN      NaN   \n",
       "\n",
       "       boat        body     home.dest  \n",
       "count   486  121.000000           745  \n",
       "unique   27         NaN           369  \n",
       "top      13         NaN  New York, NY  \n",
       "freq     39         NaN            64  \n",
       "mean    NaN  160.809917           NaN  \n",
       "std     NaN   97.696922           NaN  \n",
       "min     NaN    1.000000           NaN  \n",
       "25%     NaN   72.000000           NaN  \n",
       "50%     NaN  155.000000           NaN  \n",
       "75%     NaN  256.000000           NaN  \n",
       "max     NaN  328.000000           NaN  "
      ]
     },
     "execution_count": 325,
     "metadata": {},
     "output_type": "execute_result"
    }
   ],
   "source": [
    "titanic_dataset.describe(include = \"all\")"
   ]
  },
  {
   "cell_type": "code",
   "execution_count": 326,
   "id": "b673f994",
   "metadata": {},
   "outputs": [
    {
     "data": {
      "text/plain": [
       "pclass       float64\n",
       "survived     float64\n",
       "name          object\n",
       "sex           object\n",
       "age          float64\n",
       "sibsp        float64\n",
       "parch        float64\n",
       "ticket        object\n",
       "fare         float64\n",
       "cabin         object\n",
       "embarked      object\n",
       "boat          object\n",
       "body         float64\n",
       "home.dest     object\n",
       "dtype: object"
      ]
     },
     "execution_count": 326,
     "metadata": {},
     "output_type": "execute_result"
    }
   ],
   "source": [
    "titanic_dataset.dtypes"
   ]
  },
  {
   "cell_type": "code",
   "execution_count": 327,
   "id": "d6b24694",
   "metadata": {},
   "outputs": [
    {
     "data": {
      "text/plain": [
       "False"
      ]
     },
     "execution_count": 327,
     "metadata": {},
     "output_type": "execute_result"
    }
   ],
   "source": [
    "titanic_dataset.duplicated().any()"
   ]
  },
  {
   "cell_type": "code",
   "execution_count": 328,
   "id": "ff271e28",
   "metadata": {},
   "outputs": [
    {
     "data": {
      "text/plain": [
       "pclass          1\n",
       "survived        1\n",
       "name            1\n",
       "sex             1\n",
       "age           264\n",
       "sibsp           1\n",
       "parch           1\n",
       "ticket          1\n",
       "fare            2\n",
       "cabin        1015\n",
       "embarked        3\n",
       "boat          824\n",
       "body         1189\n",
       "home.dest     565\n",
       "dtype: int64"
      ]
     },
     "execution_count": 328,
     "metadata": {},
     "output_type": "execute_result"
    }
   ],
   "source": [
    "titanic_dataset.isna().sum()"
   ]
  },
  {
   "cell_type": "code",
   "execution_count": 329,
   "id": "0720ed1a",
   "metadata": {},
   "outputs": [
    {
     "name": "stdout",
     "output_type": "stream",
     "text": [
      "pclass\n",
      "4          float64\n",
      "survived\n",
      "3          float64\n",
      "name\n",
      "1308          object\n",
      "sex\n",
      "3          object\n",
      "age\n",
      "99          float64\n",
      "sibsp\n",
      "8          float64\n",
      "parch\n",
      "9          float64\n",
      "ticket\n",
      "930          object\n",
      "fare\n",
      "282          float64\n",
      "cabin\n",
      "187          object\n",
      "embarked\n",
      "4          object\n",
      "boat\n",
      "28          object\n",
      "body\n",
      "122          float64\n",
      "home.dest\n",
      "370          object\n"
     ]
    }
   ],
   "source": [
    "for i in titanic_dataset.columns:\n",
    "    print(i)\n",
    "    print(len(titanic_dataset[i].unique()),\"        \",titanic_dataset[i].dtypes)"
   ]
  },
  {
   "cell_type": "code",
   "execution_count": 330,
   "id": "54bb342d",
   "metadata": {},
   "outputs": [
    {
     "data": {
      "text/plain": [
       "<AxesSubplot:>"
      ]
     },
     "execution_count": 330,
     "metadata": {},
     "output_type": "execute_result"
    },
    {
     "data": {
      "image/png": "[encoded data removed]",
      "text/plain": [
       "<Figure size 432x288 with 2 Axes>"
      ]
     },
     "metadata": {
      "needs_background": "light"
     },
     "output_type": "display_data"
    }
   ],
   "source": [
    "sns.heatmap(titanic_dataset.corr(),annot = True)"
   ]
  },
  {
   "cell_type": "code",
   "execution_count": 331,
   "id": "eb2b29a1",
   "metadata": {},
   "outputs": [],
   "source": [
    "titanic_dataset_1 = titanic_dataset.drop([\"boat\",\"body\",\"home.dest\"], axis = 1)"
   ]
  },
  {
   "cell_type": "code",
   "execution_count": 332,
   "id": "dac356aa",
   "metadata": {},
   "outputs": [
    {
     "data": {
      "text/plain": [
       "(1310, 11)"
      ]
     },
     "execution_count": 332,
     "metadata": {},
     "output_type": "execute_result"
    }
   ],
   "source": [
    "titanic_dataset_1.shape"
   ]
  },
  {
   "cell_type": "code",
   "execution_count": 333,
   "id": "86b94364",
   "metadata": {},
   "outputs": [],
   "source": [
    "titanic_dataset_1.age.fillna(titanic_dataset_1.age.median(),inplace = True)"
   ]
  },
  {
   "cell_type": "code",
   "execution_count": 334,
   "id": "6a0bcfbe",
   "metadata": {},
   "outputs": [
    {
     "data": {
      "text/plain": [
       "pclass         1\n",
       "survived       1\n",
       "name           1\n",
       "sex            1\n",
       "age            0\n",
       "sibsp          1\n",
       "parch          1\n",
       "ticket         1\n",
       "fare           2\n",
       "cabin       1015\n",
       "embarked       3\n",
       "dtype: int64"
      ]
     },
     "execution_count": 334,
     "metadata": {},
     "output_type": "execute_result"
    }
   ],
   "source": [
    "titanic_dataset_1.isna().sum()"
   ]
  },
  {
   "cell_type": "code",
   "execution_count": 335,
   "id": "64105dd3",
   "metadata": {},
   "outputs": [],
   "source": [
    "titanic_dataset_1 = titanic_dataset_1.drop([\"cabin\"], axis = 1)"
   ]
  },
  {
   "cell_type": "code",
   "execution_count": 336,
   "id": "9adaba9c",
   "metadata": {},
   "outputs": [
    {
     "data": {
      "text/plain": [
       "pclass      0\n",
       "survived    0\n",
       "name        0\n",
       "sex         0\n",
       "age         0\n",
       "sibsp       0\n",
       "parch       0\n",
       "ticket      0\n",
       "fare        0\n",
       "embarked    0\n",
       "dtype: int64"
      ]
     },
     "execution_count": 336,
     "metadata": {},
     "output_type": "execute_result"
    }
   ],
   "source": [
    "titanic_dataset_1[\"embarked\"].fillna(titanic_dataset_1[\"embarked\"].mode(),inplace = True)\n",
    "titanic_dataset_1[\"fare\"].fillna(titanic_dataset_1[\"fare\"].mode(),inplace = True)\n",
    "titanic_dataset_1.dropna(inplace = True)\n",
    "titanic_dataset_1.isna().sum()"
   ]
  },
  {
   "cell_type": "code",
   "execution_count": 337,
   "id": "cde84870",
   "metadata": {},
   "outputs": [
    {
     "data": {
      "text/plain": [
       "(1306, 10)"
      ]
     },
     "execution_count": 337,
     "metadata": {},
     "output_type": "execute_result"
    }
   ],
   "source": [
    "titanic_dataset_1.shape"
   ]
  },
  {
   "cell_type": "code",
   "execution_count": 338,
   "id": "ca102092",
   "metadata": {},
   "outputs": [
    {
     "data": {
      "text/html": [
       "<div>\n",
       "<style scoped>\n",
       "    .dataframe tbody tr th:only-of-type {\n",
       "        vertical-align: middle;\n",
       "    }\n",
       "\n",
       "    .dataframe tbody tr th {\n",
       "        vertical-align: top;\n",
       "    }\n",
       "\n",
       "    .dataframe thead th {\n",
       "        text-align: right;\n",
       "    }\n",
       "</style>\n",
       "<table border=\"1\" class=\"dataframe\">\n",
       "  <thead>\n",
       "    <tr style=\"text-align: right;\">\n",
       "      <th></th>\n",
       "      <th>pclass</th>\n",
       "      <th>survived</th>\n",
       "      <th>name</th>\n",
       "      <th>sex</th>\n",
       "      <th>age</th>\n",
       "      <th>sibsp</th>\n",
       "      <th>parch</th>\n",
       "      <th>ticket</th>\n",
       "      <th>fare</th>\n",
       "      <th>embarked</th>\n",
       "    </tr>\n",
       "  </thead>\n",
       "  <tbody>\n",
       "    <tr>\n",
       "      <th>0</th>\n",
       "      <td>1.0</td>\n",
       "      <td>1.0</td>\n",
       "      <td>Allen, Miss. Elisabeth Walton</td>\n",
       "      <td>female</td>\n",
       "      <td>29.0000</td>\n",
       "      <td>0.0</td>\n",
       "      <td>0.0</td>\n",
       "      <td>24160</td>\n",
       "      <td>211.3375</td>\n",
       "      <td>S</td>\n",
       "    </tr>\n",
       "    <tr>\n",
       "      <th>1</th>\n",
       "      <td>1.0</td>\n",
       "      <td>1.0</td>\n",
       "      <td>Allison, Master. Hudson Trevor</td>\n",
       "      <td>male</td>\n",
       "      <td>0.9167</td>\n",
       "      <td>1.0</td>\n",
       "      <td>2.0</td>\n",
       "      <td>113781</td>\n",
       "      <td>151.5500</td>\n",
       "      <td>S</td>\n",
       "    </tr>\n",
       "    <tr>\n",
       "      <th>2</th>\n",
       "      <td>1.0</td>\n",
       "      <td>0.0</td>\n",
       "      <td>Allison, Miss. Helen Loraine</td>\n",
       "      <td>female</td>\n",
       "      <td>2.0000</td>\n",
       "      <td>1.0</td>\n",
       "      <td>2.0</td>\n",
       "      <td>113781</td>\n",
       "      <td>151.5500</td>\n",
       "      <td>S</td>\n",
       "    </tr>\n",
       "    <tr>\n",
       "      <th>3</th>\n",
       "      <td>1.0</td>\n",
       "      <td>0.0</td>\n",
       "      <td>Allison, Mr. Hudson Joshua Creighton</td>\n",
       "      <td>male</td>\n",
       "      <td>30.0000</td>\n",
       "      <td>1.0</td>\n",
       "      <td>2.0</td>\n",
       "      <td>113781</td>\n",
       "      <td>151.5500</td>\n",
       "      <td>S</td>\n",
       "    </tr>\n",
       "    <tr>\n",
       "      <th>4</th>\n",
       "      <td>1.0</td>\n",
       "      <td>0.0</td>\n",
       "      <td>Allison, Mrs. Hudson J C (Bessie Waldo Daniels)</td>\n",
       "      <td>female</td>\n",
       "      <td>25.0000</td>\n",
       "      <td>1.0</td>\n",
       "      <td>2.0</td>\n",
       "      <td>113781</td>\n",
       "      <td>151.5500</td>\n",
       "      <td>S</td>\n",
       "    </tr>\n",
       "  </tbody>\n",
       "</table>\n",
       "</div>"
      ],
      "text/plain": [
       "   pclass  survived                                             name     sex  \\\n",
       "0     1.0       1.0                    Allen, Miss. Elisabeth Walton  female   \n",
       "1     1.0       1.0                   Allison, Master. Hudson Trevor    male   \n",
       "2     1.0       0.0                     Allison, Miss. Helen Loraine  female   \n",
       "3     1.0       0.0             Allison, Mr. Hudson Joshua Creighton    male   \n",
       "4     1.0       0.0  Allison, Mrs. Hudson J C (Bessie Waldo Daniels)  female   \n",
       "\n",
       "       age  sibsp  parch  ticket      fare embarked  \n",
       "0  29.0000    0.0    0.0   24160  211.3375        S  \n",
       "1   0.9167    1.0    2.0  113781  151.5500        S  \n",
       "2   2.0000    1.0    2.0  113781  151.5500        S  \n",
       "3  30.0000    1.0    2.0  113781  151.5500        S  \n",
       "4  25.0000    1.0    2.0  113781  151.5500        S  "
      ]
     },
     "execution_count": 338,
     "metadata": {},
     "output_type": "execute_result"
    }
   ],
   "source": [
    "titanic_dataset_1.head()"
   ]
  },
  {
   "cell_type": "code",
   "execution_count": 339,
   "id": "7895b220",
   "metadata": {},
   "outputs": [
    {
     "data": {
      "text/plain": [
       "pclass      float64\n",
       "survived    float64\n",
       "name         object\n",
       "sex          object\n",
       "age         float64\n",
       "sibsp       float64\n",
       "parch       float64\n",
       "ticket       object\n",
       "fare        float64\n",
       "embarked     object\n",
       "dtype: object"
      ]
     },
     "execution_count": 339,
     "metadata": {},
     "output_type": "execute_result"
    }
   ],
   "source": [
    "titanic_dataset_1.dtypes"
   ]
  },
  {
   "cell_type": "code",
   "execution_count": 340,
   "id": "b229404e",
   "metadata": {},
   "outputs": [
    {
     "data": {
      "text/html": [
       "<div>\n",
       "<style scoped>\n",
       "    .dataframe tbody tr th:only-of-type {\n",
       "        vertical-align: middle;\n",
       "    }\n",
       "\n",
       "    .dataframe tbody tr th {\n",
       "        vertical-align: top;\n",
       "    }\n",
       "\n",
       "    .dataframe thead th {\n",
       "        text-align: right;\n",
       "    }\n",
       "</style>\n",
       "<table border=\"1\" class=\"dataframe\">\n",
       "  <thead>\n",
       "    <tr style=\"text-align: right;\">\n",
       "      <th></th>\n",
       "      <th>pclass</th>\n",
       "      <th>survived</th>\n",
       "      <th>name</th>\n",
       "      <th>sex</th>\n",
       "      <th>age</th>\n",
       "      <th>sibsp</th>\n",
       "      <th>parch</th>\n",
       "      <th>ticket</th>\n",
       "      <th>fare</th>\n",
       "      <th>embarked</th>\n",
       "      <th>FamilySize</th>\n",
       "    </tr>\n",
       "  </thead>\n",
       "  <tbody>\n",
       "    <tr>\n",
       "      <th>0</th>\n",
       "      <td>1.0</td>\n",
       "      <td>1.0</td>\n",
       "      <td>Allen, Miss. Elisabeth Walton</td>\n",
       "      <td>female</td>\n",
       "      <td>29.0000</td>\n",
       "      <td>0.0</td>\n",
       "      <td>0.0</td>\n",
       "      <td>24160</td>\n",
       "      <td>211.3375</td>\n",
       "      <td>S</td>\n",
       "      <td>1.0</td>\n",
       "    </tr>\n",
       "    <tr>\n",
       "      <th>1</th>\n",
       "      <td>1.0</td>\n",
       "      <td>1.0</td>\n",
       "      <td>Allison, Master. Hudson Trevor</td>\n",
       "      <td>male</td>\n",
       "      <td>0.9167</td>\n",
       "      <td>1.0</td>\n",
       "      <td>2.0</td>\n",
       "      <td>113781</td>\n",
       "      <td>151.5500</td>\n",
       "      <td>S</td>\n",
       "      <td>4.0</td>\n",
       "    </tr>\n",
       "    <tr>\n",
       "      <th>2</th>\n",
       "      <td>1.0</td>\n",
       "      <td>0.0</td>\n",
       "      <td>Allison, Miss. Helen Loraine</td>\n",
       "      <td>female</td>\n",
       "      <td>2.0000</td>\n",
       "      <td>1.0</td>\n",
       "      <td>2.0</td>\n",
       "      <td>113781</td>\n",
       "      <td>151.5500</td>\n",
       "      <td>S</td>\n",
       "      <td>4.0</td>\n",
       "    </tr>\n",
       "    <tr>\n",
       "      <th>3</th>\n",
       "      <td>1.0</td>\n",
       "      <td>0.0</td>\n",
       "      <td>Allison, Mr. Hudson Joshua Creighton</td>\n",
       "      <td>male</td>\n",
       "      <td>30.0000</td>\n",
       "      <td>1.0</td>\n",
       "      <td>2.0</td>\n",
       "      <td>113781</td>\n",
       "      <td>151.5500</td>\n",
       "      <td>S</td>\n",
       "      <td>4.0</td>\n",
       "    </tr>\n",
       "    <tr>\n",
       "      <th>4</th>\n",
       "      <td>1.0</td>\n",
       "      <td>0.0</td>\n",
       "      <td>Allison, Mrs. Hudson J C (Bessie Waldo Daniels)</td>\n",
       "      <td>female</td>\n",
       "      <td>25.0000</td>\n",
       "      <td>1.0</td>\n",
       "      <td>2.0</td>\n",
       "      <td>113781</td>\n",
       "      <td>151.5500</td>\n",
       "      <td>S</td>\n",
       "      <td>4.0</td>\n",
       "    </tr>\n",
       "  </tbody>\n",
       "</table>\n",
       "</div>"
      ],
      "text/plain": [
       "   pclass  survived                                             name     sex  \\\n",
       "0     1.0       1.0                    Allen, Miss. Elisabeth Walton  female   \n",
       "1     1.0       1.0                   Allison, Master. Hudson Trevor    male   \n",
       "2     1.0       0.0                     Allison, Miss. Helen Loraine  female   \n",
       "3     1.0       0.0             Allison, Mr. Hudson Joshua Creighton    male   \n",
       "4     1.0       0.0  Allison, Mrs. Hudson J C (Bessie Waldo Daniels)  female   \n",
       "\n",
       "       age  sibsp  parch  ticket      fare embarked  FamilySize  \n",
       "0  29.0000    0.0    0.0   24160  211.3375        S         1.0  \n",
       "1   0.9167    1.0    2.0  113781  151.5500        S         4.0  \n",
       "2   2.0000    1.0    2.0  113781  151.5500        S         4.0  \n",
       "3  30.0000    1.0    2.0  113781  151.5500        S         4.0  \n",
       "4  25.0000    1.0    2.0  113781  151.5500        S         4.0  "
      ]
     },
     "execution_count": 340,
     "metadata": {},
     "output_type": "execute_result"
    }
   ],
   "source": [
    "titanic_dataset_1['FamilySize'] = titanic_dataset_1['sibsp'] + titanic_dataset_1['parch'] + 1\n",
    "titanic_dataset_1.head()"
   ]
  },
  {
   "cell_type": "code",
   "execution_count": 341,
   "id": "6055929a",
   "metadata": {},
   "outputs": [
    {
     "data": {
      "text/html": [
       "<div>\n",
       "<style scoped>\n",
       "    .dataframe tbody tr th:only-of-type {\n",
       "        vertical-align: middle;\n",
       "    }\n",
       "\n",
       "    .dataframe tbody tr th {\n",
       "        vertical-align: top;\n",
       "    }\n",
       "\n",
       "    .dataframe thead th {\n",
       "        text-align: right;\n",
       "    }\n",
       "</style>\n",
       "<table border=\"1\" class=\"dataframe\">\n",
       "  <thead>\n",
       "    <tr style=\"text-align: right;\">\n",
       "      <th></th>\n",
       "      <th>pclass</th>\n",
       "      <th>survived</th>\n",
       "      <th>name</th>\n",
       "      <th>sex</th>\n",
       "      <th>age</th>\n",
       "      <th>sibsp</th>\n",
       "      <th>parch</th>\n",
       "      <th>ticket</th>\n",
       "      <th>fare</th>\n",
       "      <th>embarked</th>\n",
       "      <th>FamilySize</th>\n",
       "      <th>Title</th>\n",
       "    </tr>\n",
       "  </thead>\n",
       "  <tbody>\n",
       "    <tr>\n",
       "      <th>0</th>\n",
       "      <td>1.0</td>\n",
       "      <td>1.0</td>\n",
       "      <td>Allen, Miss. Elisabeth Walton</td>\n",
       "      <td>female</td>\n",
       "      <td>29.0000</td>\n",
       "      <td>0.0</td>\n",
       "      <td>0.0</td>\n",
       "      <td>24160</td>\n",
       "      <td>211.3375</td>\n",
       "      <td>S</td>\n",
       "      <td>1.0</td>\n",
       "      <td>Miss</td>\n",
       "    </tr>\n",
       "    <tr>\n",
       "      <th>1</th>\n",
       "      <td>1.0</td>\n",
       "      <td>1.0</td>\n",
       "      <td>Allison, Master. Hudson Trevor</td>\n",
       "      <td>male</td>\n",
       "      <td>0.9167</td>\n",
       "      <td>1.0</td>\n",
       "      <td>2.0</td>\n",
       "      <td>113781</td>\n",
       "      <td>151.5500</td>\n",
       "      <td>S</td>\n",
       "      <td>4.0</td>\n",
       "      <td>Master</td>\n",
       "    </tr>\n",
       "    <tr>\n",
       "      <th>2</th>\n",
       "      <td>1.0</td>\n",
       "      <td>0.0</td>\n",
       "      <td>Allison, Miss. Helen Loraine</td>\n",
       "      <td>female</td>\n",
       "      <td>2.0000</td>\n",
       "      <td>1.0</td>\n",
       "      <td>2.0</td>\n",
       "      <td>113781</td>\n",
       "      <td>151.5500</td>\n",
       "      <td>S</td>\n",
       "      <td>4.0</td>\n",
       "      <td>Miss</td>\n",
       "    </tr>\n",
       "    <tr>\n",
       "      <th>3</th>\n",
       "      <td>1.0</td>\n",
       "      <td>0.0</td>\n",
       "      <td>Allison, Mr. Hudson Joshua Creighton</td>\n",
       "      <td>male</td>\n",
       "      <td>30.0000</td>\n",
       "      <td>1.0</td>\n",
       "      <td>2.0</td>\n",
       "      <td>113781</td>\n",
       "      <td>151.5500</td>\n",
       "      <td>S</td>\n",
       "      <td>4.0</td>\n",
       "      <td>Mr</td>\n",
       "    </tr>\n",
       "    <tr>\n",
       "      <th>4</th>\n",
       "      <td>1.0</td>\n",
       "      <td>0.0</td>\n",
       "      <td>Allison, Mrs. Hudson J C (Bessie Waldo Daniels)</td>\n",
       "      <td>female</td>\n",
       "      <td>25.0000</td>\n",
       "      <td>1.0</td>\n",
       "      <td>2.0</td>\n",
       "      <td>113781</td>\n",
       "      <td>151.5500</td>\n",
       "      <td>S</td>\n",
       "      <td>4.0</td>\n",
       "      <td>Mrs</td>\n",
       "    </tr>\n",
       "  </tbody>\n",
       "</table>\n",
       "</div>"
      ],
      "text/plain": [
       "   pclass  survived                                             name     sex  \\\n",
       "0     1.0       1.0                    Allen, Miss. Elisabeth Walton  female   \n",
       "1     1.0       1.0                   Allison, Master. Hudson Trevor    male   \n",
       "2     1.0       0.0                     Allison, Miss. Helen Loraine  female   \n",
       "3     1.0       0.0             Allison, Mr. Hudson Joshua Creighton    male   \n",
       "4     1.0       0.0  Allison, Mrs. Hudson J C (Bessie Waldo Daniels)  female   \n",
       "\n",
       "       age  sibsp  parch  ticket      fare embarked  FamilySize   Title  \n",
       "0  29.0000    0.0    0.0   24160  211.3375        S         1.0    Miss  \n",
       "1   0.9167    1.0    2.0  113781  151.5500        S         4.0  Master  \n",
       "2   2.0000    1.0    2.0  113781  151.5500        S         4.0    Miss  \n",
       "3  30.0000    1.0    2.0  113781  151.5500        S         4.0      Mr  \n",
       "4  25.0000    1.0    2.0  113781  151.5500        S         4.0     Mrs  "
      ]
     },
     "execution_count": 341,
     "metadata": {},
     "output_type": "execute_result"
    }
   ],
   "source": [
    "def get_title(name):\n",
    "    title_search = re.search(' ([A-Za-z]+)\\.', name)\n",
    "    if title_search:\n",
    "        return title_search.group(1)\n",
    "    return \"\"\n",
    "\n",
    "titanic_dataset_1['Title'] = titanic_dataset_1['name'].apply(get_title)\n",
    "titanic_dataset_1.head()"
   ]
  },
  {
   "cell_type": "code",
   "execution_count": 342,
   "id": "e6fc1419",
   "metadata": {},
   "outputs": [
    {
     "data": {
      "text/plain": [
       "18"
      ]
     },
     "execution_count": 342,
     "metadata": {},
     "output_type": "execute_result"
    }
   ],
   "source": [
    "len(titanic_dataset_1['Title'].unique())"
   ]
  },
  {
   "cell_type": "code",
   "execution_count": 343,
   "id": "4f3f7570",
   "metadata": {},
   "outputs": [
    {
     "data": {
      "text/plain": [
       "array(['Miss', 'Master', 'Mr', 'Mrs', 'Col', 'Mme', 'Dr', 'Major', 'Capt',\n",
       "       'Lady', 'Sir', 'Mlle', 'Dona', 'Jonkheer', 'Countess', 'Don',\n",
       "       'Rev', 'Ms'], dtype=object)"
      ]
     },
     "execution_count": 343,
     "metadata": {},
     "output_type": "execute_result"
    }
   ],
   "source": [
    "titanic_dataset_1['Title'].unique()"
   ]
  },
  {
   "cell_type": "code",
   "execution_count": 344,
   "id": "818cc637",
   "metadata": {},
   "outputs": [
    {
     "name": "stdout",
     "output_type": "stream",
     "text": [
      "Miss  ----  259\n",
      "Master  ----  61\n",
      "Mr  ----  756\n",
      "Mrs  ----  196\n",
      "Col  ----  4\n",
      "Mme  ----  1\n",
      "Dr  ----  8\n",
      "Major  ----  2\n",
      "Capt  ----  1\n",
      "Lady  ----  1\n",
      "Sir  ----  1\n",
      "Mlle  ----  2\n",
      "Dona  ----  1\n",
      "Jonkheer  ----  1\n",
      "Countess  ----  1\n",
      "Don  ----  1\n",
      "Rev  ----  8\n",
      "Ms  ----  2\n"
     ]
    }
   ],
   "source": [
    "for title in titanic_dataset_1['Title'].unique():\n",
    "    print(title, \" ---- \",(((titanic_dataset_1['Title'] == title) == True).sum()))"
   ]
  },
  {
   "cell_type": "code",
   "execution_count": 345,
   "id": "401661b7",
   "metadata": {},
   "outputs": [],
   "source": [
    "\n",
    "titanic_dataset_1['Title'] = titanic_dataset_1['Title'].replace(['Lady', 'Countess','Capt', 'Col','Don', \n",
    "                                                 'Dr', 'Major', 'Rev', 'Sir', 'Jonkheer', 'Dona'], 'Rare')\n",
    "\n",
    "titanic_dataset_1['Title'] = titanic_dataset_1['Title'].replace('Mlle', 'Miss')\n",
    "titanic_dataset_1['Title'] = titanic_dataset_1['Title'].replace('Ms', 'Miss')\n",
    "titanic_dataset_1['Title'] = titanic_dataset_1['Title'].replace('Mme', 'Mrs')"
   ]
  },
  {
   "cell_type": "code",
   "execution_count": 346,
   "id": "98bbac75",
   "metadata": {},
   "outputs": [
    {
     "data": {
      "text/html": [
       "<div>\n",
       "<style scoped>\n",
       "    .dataframe tbody tr th:only-of-type {\n",
       "        vertical-align: middle;\n",
       "    }\n",
       "\n",
       "    .dataframe tbody tr th {\n",
       "        vertical-align: top;\n",
       "    }\n",
       "\n",
       "    .dataframe thead th {\n",
       "        text-align: right;\n",
       "    }\n",
       "</style>\n",
       "<table border=\"1\" class=\"dataframe\">\n",
       "  <thead>\n",
       "    <tr style=\"text-align: right;\">\n",
       "      <th></th>\n",
       "      <th>pclass</th>\n",
       "      <th>survived</th>\n",
       "      <th>name</th>\n",
       "      <th>sex</th>\n",
       "      <th>age</th>\n",
       "      <th>sibsp</th>\n",
       "      <th>parch</th>\n",
       "      <th>ticket</th>\n",
       "      <th>fare</th>\n",
       "      <th>embarked</th>\n",
       "      <th>FamilySize</th>\n",
       "      <th>Title</th>\n",
       "    </tr>\n",
       "  </thead>\n",
       "  <tbody>\n",
       "    <tr>\n",
       "      <th>0</th>\n",
       "      <td>1.0</td>\n",
       "      <td>1.0</td>\n",
       "      <td>Allen, Miss. Elisabeth Walton</td>\n",
       "      <td>female</td>\n",
       "      <td>29.0000</td>\n",
       "      <td>0.0</td>\n",
       "      <td>0.0</td>\n",
       "      <td>24160</td>\n",
       "      <td>211.3375</td>\n",
       "      <td>S</td>\n",
       "      <td>1.0</td>\n",
       "      <td>Miss</td>\n",
       "    </tr>\n",
       "    <tr>\n",
       "      <th>1</th>\n",
       "      <td>1.0</td>\n",
       "      <td>1.0</td>\n",
       "      <td>Allison, Master. Hudson Trevor</td>\n",
       "      <td>male</td>\n",
       "      <td>0.9167</td>\n",
       "      <td>1.0</td>\n",
       "      <td>2.0</td>\n",
       "      <td>113781</td>\n",
       "      <td>151.5500</td>\n",
       "      <td>S</td>\n",
       "      <td>4.0</td>\n",
       "      <td>Master</td>\n",
       "    </tr>\n",
       "    <tr>\n",
       "      <th>2</th>\n",
       "      <td>1.0</td>\n",
       "      <td>0.0</td>\n",
       "      <td>Allison, Miss. Helen Loraine</td>\n",
       "      <td>female</td>\n",
       "      <td>2.0000</td>\n",
       "      <td>1.0</td>\n",
       "      <td>2.0</td>\n",
       "      <td>113781</td>\n",
       "      <td>151.5500</td>\n",
       "      <td>S</td>\n",
       "      <td>4.0</td>\n",
       "      <td>Miss</td>\n",
       "    </tr>\n",
       "    <tr>\n",
       "      <th>3</th>\n",
       "      <td>1.0</td>\n",
       "      <td>0.0</td>\n",
       "      <td>Allison, Mr. Hudson Joshua Creighton</td>\n",
       "      <td>male</td>\n",
       "      <td>30.0000</td>\n",
       "      <td>1.0</td>\n",
       "      <td>2.0</td>\n",
       "      <td>113781</td>\n",
       "      <td>151.5500</td>\n",
       "      <td>S</td>\n",
       "      <td>4.0</td>\n",
       "      <td>Mr</td>\n",
       "    </tr>\n",
       "    <tr>\n",
       "      <th>4</th>\n",
       "      <td>1.0</td>\n",
       "      <td>0.0</td>\n",
       "      <td>Allison, Mrs. Hudson J C (Bessie Waldo Daniels)</td>\n",
       "      <td>female</td>\n",
       "      <td>25.0000</td>\n",
       "      <td>1.0</td>\n",
       "      <td>2.0</td>\n",
       "      <td>113781</td>\n",
       "      <td>151.5500</td>\n",
       "      <td>S</td>\n",
       "      <td>4.0</td>\n",
       "      <td>Mrs</td>\n",
       "    </tr>\n",
       "  </tbody>\n",
       "</table>\n",
       "</div>"
      ],
      "text/plain": [
       "   pclass  survived                                             name     sex  \\\n",
       "0     1.0       1.0                    Allen, Miss. Elisabeth Walton  female   \n",
       "1     1.0       1.0                   Allison, Master. Hudson Trevor    male   \n",
       "2     1.0       0.0                     Allison, Miss. Helen Loraine  female   \n",
       "3     1.0       0.0             Allison, Mr. Hudson Joshua Creighton    male   \n",
       "4     1.0       0.0  Allison, Mrs. Hudson J C (Bessie Waldo Daniels)  female   \n",
       "\n",
       "       age  sibsp  parch  ticket      fare embarked  FamilySize   Title  \n",
       "0  29.0000    0.0    0.0   24160  211.3375        S         1.0    Miss  \n",
       "1   0.9167    1.0    2.0  113781  151.5500        S         4.0  Master  \n",
       "2   2.0000    1.0    2.0  113781  151.5500        S         4.0    Miss  \n",
       "3  30.0000    1.0    2.0  113781  151.5500        S         4.0      Mr  \n",
       "4  25.0000    1.0    2.0  113781  151.5500        S         4.0     Mrs  "
      ]
     },
     "execution_count": 346,
     "metadata": {},
     "output_type": "execute_result"
    }
   ],
   "source": [
    "titanic_dataset_1.head()"
   ]
  },
  {
   "cell_type": "code",
   "execution_count": 347,
   "id": "37bdb585",
   "metadata": {},
   "outputs": [
    {
     "data": {
      "text/plain": [
       "<AxesSubplot:>"
      ]
     },
     "execution_count": 347,
     "metadata": {},
     "output_type": "execute_result"
    },
    {
     "data": {
      "image/png": "[encoded data removed]",
      "text/plain": [
       "<Figure size 432x288 with 1 Axes>"
      ]
     },
     "metadata": {
      "needs_background": "light"
     },
     "output_type": "display_data"
    }
   ],
   "source": [
    "titanic_dataset_1['age'].hist()"
   ]
  },
  {
   "cell_type": "code",
   "execution_count": 348,
   "id": "bd2adebf",
   "metadata": {},
   "outputs": [],
   "source": [
    "titanic_dataset_1['Age_bin'] = pd.cut(titanic_dataset_1['age'], bins=[0,12,20,45,90], labels=['Children','Teenage','Adult','Elder'])"
   ]
  },
  {
   "cell_type": "code",
   "execution_count": 349,
   "id": "f12c3c2f",
   "metadata": {},
   "outputs": [
    {
     "name": "stdout",
     "output_type": "stream",
     "text": [
      "0.0 512.3292\n"
     ]
    },
    {
     "data": {
      "image/png": "[encoded data removed]",
      "text/plain": [
       "<Figure size 432x288 with 1 Axes>"
      ]
     },
     "metadata": {
      "needs_background": "light"
     },
     "output_type": "display_data"
    },
    {
     "data": {
      "image/png": "[encoded data removed]",
      "text/plain": [
       "<Figure size 432x288 with 1 Axes>"
      ]
     },
     "metadata": {
      "needs_background": "light"
     },
     "output_type": "display_data"
    }
   ],
   "source": [
    "print(titanic_dataset_1[\"fare\"].min(),titanic_dataset_1[\"fare\"].max())\n",
    "titanic_dataset_1['fare'].hist()\n",
    "plt.show()\n",
    "titanic_dataset_1['fare'].plot()\n",
    "plt.show()"
   ]
  },
  {
   "cell_type": "code",
   "execution_count": 350,
   "id": "08dea0ea",
   "metadata": {},
   "outputs": [],
   "source": [
    "titanic_dataset_1['Fare_bin'] = pd.cut(titanic_dataset_1['fare'], bins=[0,50,100,150,200,250,520], labels=['very_low_fare','low_fare',\n",
    "                                                                                      'average_fare','above_average_fare','high_fare','very_high_fare'])"
   ]
  },
  {
   "cell_type": "code",
   "execution_count": 351,
   "id": "e1df4275",
   "metadata": {},
   "outputs": [
    {
     "name": "stdout",
     "output_type": "stream",
     "text": [
      "(1306, 14)\n"
     ]
    },
    {
     "data": {
      "text/html": [
       "<div>\n",
       "<style scoped>\n",
       "    .dataframe tbody tr th:only-of-type {\n",
       "        vertical-align: middle;\n",
       "    }\n",
       "\n",
       "    .dataframe tbody tr th {\n",
       "        vertical-align: top;\n",
       "    }\n",
       "\n",
       "    .dataframe thead th {\n",
       "        text-align: right;\n",
       "    }\n",
       "</style>\n",
       "<table border=\"1\" class=\"dataframe\">\n",
       "  <thead>\n",
       "    <tr style=\"text-align: right;\">\n",
       "      <th></th>\n",
       "      <th>pclass</th>\n",
       "      <th>survived</th>\n",
       "      <th>name</th>\n",
       "      <th>sex</th>\n",
       "      <th>age</th>\n",
       "      <th>sibsp</th>\n",
       "      <th>parch</th>\n",
       "      <th>ticket</th>\n",
       "      <th>fare</th>\n",
       "      <th>embarked</th>\n",
       "      <th>FamilySize</th>\n",
       "      <th>Title</th>\n",
       "      <th>Age_bin</th>\n",
       "      <th>Fare_bin</th>\n",
       "    </tr>\n",
       "  </thead>\n",
       "  <tbody>\n",
       "    <tr>\n",
       "      <th>0</th>\n",
       "      <td>1.0</td>\n",
       "      <td>1.0</td>\n",
       "      <td>Allen, Miss. Elisabeth Walton</td>\n",
       "      <td>female</td>\n",
       "      <td>29.0000</td>\n",
       "      <td>0.0</td>\n",
       "      <td>0.0</td>\n",
       "      <td>24160</td>\n",
       "      <td>211.3375</td>\n",
       "      <td>S</td>\n",
       "      <td>1.0</td>\n",
       "      <td>Miss</td>\n",
       "      <td>Adult</td>\n",
       "      <td>high_fare</td>\n",
       "    </tr>\n",
       "    <tr>\n",
       "      <th>1</th>\n",
       "      <td>1.0</td>\n",
       "      <td>1.0</td>\n",
       "      <td>Allison, Master. Hudson Trevor</td>\n",
       "      <td>male</td>\n",
       "      <td>0.9167</td>\n",
       "      <td>1.0</td>\n",
       "      <td>2.0</td>\n",
       "      <td>113781</td>\n",
       "      <td>151.5500</td>\n",
       "      <td>S</td>\n",
       "      <td>4.0</td>\n",
       "      <td>Master</td>\n",
       "      <td>Children</td>\n",
       "      <td>above_average_fare</td>\n",
       "    </tr>\n",
       "    <tr>\n",
       "      <th>2</th>\n",
       "      <td>1.0</td>\n",
       "      <td>0.0</td>\n",
       "      <td>Allison, Miss. Helen Loraine</td>\n",
       "      <td>female</td>\n",
       "      <td>2.0000</td>\n",
       "      <td>1.0</td>\n",
       "      <td>2.0</td>\n",
       "      <td>113781</td>\n",
       "      <td>151.5500</td>\n",
       "      <td>S</td>\n",
       "      <td>4.0</td>\n",
       "      <td>Miss</td>\n",
       "      <td>Children</td>\n",
       "      <td>above_average_fare</td>\n",
       "    </tr>\n",
       "    <tr>\n",
       "      <th>3</th>\n",
       "      <td>1.0</td>\n",
       "      <td>0.0</td>\n",
       "      <td>Allison, Mr. Hudson Joshua Creighton</td>\n",
       "      <td>male</td>\n",
       "      <td>30.0000</td>\n",
       "      <td>1.0</td>\n",
       "      <td>2.0</td>\n",
       "      <td>113781</td>\n",
       "      <td>151.5500</td>\n",
       "      <td>S</td>\n",
       "      <td>4.0</td>\n",
       "      <td>Mr</td>\n",
       "      <td>Adult</td>\n",
       "      <td>above_average_fare</td>\n",
       "    </tr>\n",
       "    <tr>\n",
       "      <th>4</th>\n",
       "      <td>1.0</td>\n",
       "      <td>0.0</td>\n",
       "      <td>Allison, Mrs. Hudson J C (Bessie Waldo Daniels)</td>\n",
       "      <td>female</td>\n",
       "      <td>25.0000</td>\n",
       "      <td>1.0</td>\n",
       "      <td>2.0</td>\n",
       "      <td>113781</td>\n",
       "      <td>151.5500</td>\n",
       "      <td>S</td>\n",
       "      <td>4.0</td>\n",
       "      <td>Mrs</td>\n",
       "      <td>Adult</td>\n",
       "      <td>above_average_fare</td>\n",
       "    </tr>\n",
       "  </tbody>\n",
       "</table>\n",
       "</div>"
      ],
      "text/plain": [
       "   pclass  survived                                             name     sex  \\\n",
       "0     1.0       1.0                    Allen, Miss. Elisabeth Walton  female   \n",
       "1     1.0       1.0                   Allison, Master. Hudson Trevor    male   \n",
       "2     1.0       0.0                     Allison, Miss. Helen Loraine  female   \n",
       "3     1.0       0.0             Allison, Mr. Hudson Joshua Creighton    male   \n",
       "4     1.0       0.0  Allison, Mrs. Hudson J C (Bessie Waldo Daniels)  female   \n",
       "\n",
       "       age  sibsp  parch  ticket      fare embarked  FamilySize   Title  \\\n",
       "0  29.0000    0.0    0.0   24160  211.3375        S         1.0    Miss   \n",
       "1   0.9167    1.0    2.0  113781  151.5500        S         4.0  Master   \n",
       "2   2.0000    1.0    2.0  113781  151.5500        S         4.0    Miss   \n",
       "3  30.0000    1.0    2.0  113781  151.5500        S         4.0      Mr   \n",
       "4  25.0000    1.0    2.0  113781  151.5500        S         4.0     Mrs   \n",
       "\n",
       "    Age_bin            Fare_bin  \n",
       "0     Adult           high_fare  \n",
       "1  Children  above_average_fare  \n",
       "2  Children  above_average_fare  \n",
       "3     Adult  above_average_fare  \n",
       "4     Adult  above_average_fare  "
      ]
     },
     "execution_count": 351,
     "metadata": {},
     "output_type": "execute_result"
    }
   ],
   "source": [
    "print(titanic_dataset_1.shape)\n",
    "titanic_dataset_1.head()"
   ]
  },
  {
   "cell_type": "code",
   "execution_count": 352,
   "id": "39ee566d",
   "metadata": {},
   "outputs": [],
   "source": [
    "titanic_dataset_1.drop(['age','fare','name','ticket'], axis=1, inplace = True)"
   ]
  },
  {
   "cell_type": "code",
   "execution_count": 353,
   "id": "e034ef8d",
   "metadata": {},
   "outputs": [],
   "source": [
    "titanic_dataset_2 = pd.get_dummies(titanic_dataset_1, columns = [\"sex\",\"Title\",\"Age_bin\",\"embarked\",\"Fare_bin\"],\n",
    "                             prefix=[\"Sex\",\"Title\",\"Age_type\",\"Embark_type\",\"Fare_type\"])"
   ]
  },
  {
   "cell_type": "code",
   "execution_count": 354,
   "id": "7f6bb7f3",
   "metadata": {},
   "outputs": [
    {
     "name": "stdout",
     "output_type": "stream",
     "text": [
      "(1310, 14)\n"
     ]
    },
    {
     "data": {
      "text/html": [
       "<div>\n",
       "<style scoped>\n",
       "    .dataframe tbody tr th:only-of-type {\n",
       "        vertical-align: middle;\n",
       "    }\n",
       "\n",
       "    .dataframe tbody tr th {\n",
       "        vertical-align: top;\n",
       "    }\n",
       "\n",
       "    .dataframe thead th {\n",
       "        text-align: right;\n",
       "    }\n",
       "</style>\n",
       "<table border=\"1\" class=\"dataframe\">\n",
       "  <thead>\n",
       "    <tr style=\"text-align: right;\">\n",
       "      <th></th>\n",
       "      <th>pclass</th>\n",
       "      <th>survived</th>\n",
       "      <th>sibsp</th>\n",
       "      <th>parch</th>\n",
       "      <th>FamilySize</th>\n",
       "      <th>Sex_female</th>\n",
       "      <th>Sex_male</th>\n",
       "      <th>Title_Master</th>\n",
       "      <th>Title_Miss</th>\n",
       "      <th>Title_Mr</th>\n",
       "      <th>...</th>\n",
       "      <th>Age_type_Elder</th>\n",
       "      <th>Embark_type_C</th>\n",
       "      <th>Embark_type_Q</th>\n",
       "      <th>Embark_type_S</th>\n",
       "      <th>Fare_type_very_low_fare</th>\n",
       "      <th>Fare_type_low_fare</th>\n",
       "      <th>Fare_type_average_fare</th>\n",
       "      <th>Fare_type_above_average_fare</th>\n",
       "      <th>Fare_type_high_fare</th>\n",
       "      <th>Fare_type_very_high_fare</th>\n",
       "    </tr>\n",
       "  </thead>\n",
       "  <tbody>\n",
       "    <tr>\n",
       "      <th>0</th>\n",
       "      <td>1.0</td>\n",
       "      <td>1.0</td>\n",
       "      <td>0.0</td>\n",
       "      <td>0.0</td>\n",
       "      <td>1.0</td>\n",
       "      <td>1</td>\n",
       "      <td>0</td>\n",
       "      <td>0</td>\n",
       "      <td>1</td>\n",
       "      <td>0</td>\n",
       "      <td>...</td>\n",
       "      <td>0</td>\n",
       "      <td>0</td>\n",
       "      <td>0</td>\n",
       "      <td>1</td>\n",
       "      <td>0</td>\n",
       "      <td>0</td>\n",
       "      <td>0</td>\n",
       "      <td>0</td>\n",
       "      <td>1</td>\n",
       "      <td>0</td>\n",
       "    </tr>\n",
       "    <tr>\n",
       "      <th>1</th>\n",
       "      <td>1.0</td>\n",
       "      <td>1.0</td>\n",
       "      <td>1.0</td>\n",
       "      <td>2.0</td>\n",
       "      <td>4.0</td>\n",
       "      <td>0</td>\n",
       "      <td>1</td>\n",
       "      <td>1</td>\n",
       "      <td>0</td>\n",
       "      <td>0</td>\n",
       "      <td>...</td>\n",
       "      <td>0</td>\n",
       "      <td>0</td>\n",
       "      <td>0</td>\n",
       "      <td>1</td>\n",
       "      <td>0</td>\n",
       "      <td>0</td>\n",
       "      <td>0</td>\n",
       "      <td>1</td>\n",
       "      <td>0</td>\n",
       "      <td>0</td>\n",
       "    </tr>\n",
       "    <tr>\n",
       "      <th>2</th>\n",
       "      <td>1.0</td>\n",
       "      <td>0.0</td>\n",
       "      <td>1.0</td>\n",
       "      <td>2.0</td>\n",
       "      <td>4.0</td>\n",
       "      <td>1</td>\n",
       "      <td>0</td>\n",
       "      <td>0</td>\n",
       "      <td>1</td>\n",
       "      <td>0</td>\n",
       "      <td>...</td>\n",
       "      <td>0</td>\n",
       "      <td>0</td>\n",
       "      <td>0</td>\n",
       "      <td>1</td>\n",
       "      <td>0</td>\n",
       "      <td>0</td>\n",
       "      <td>0</td>\n",
       "      <td>1</td>\n",
       "      <td>0</td>\n",
       "      <td>0</td>\n",
       "    </tr>\n",
       "    <tr>\n",
       "      <th>3</th>\n",
       "      <td>1.0</td>\n",
       "      <td>0.0</td>\n",
       "      <td>1.0</td>\n",
       "      <td>2.0</td>\n",
       "      <td>4.0</td>\n",
       "      <td>0</td>\n",
       "      <td>1</td>\n",
       "      <td>0</td>\n",
       "      <td>0</td>\n",
       "      <td>1</td>\n",
       "      <td>...</td>\n",
       "      <td>0</td>\n",
       "      <td>0</td>\n",
       "      <td>0</td>\n",
       "      <td>1</td>\n",
       "      <td>0</td>\n",
       "      <td>0</td>\n",
       "      <td>0</td>\n",
       "      <td>1</td>\n",
       "      <td>0</td>\n",
       "      <td>0</td>\n",
       "    </tr>\n",
       "    <tr>\n",
       "      <th>4</th>\n",
       "      <td>1.0</td>\n",
       "      <td>0.0</td>\n",
       "      <td>1.0</td>\n",
       "      <td>2.0</td>\n",
       "      <td>4.0</td>\n",
       "      <td>1</td>\n",
       "      <td>0</td>\n",
       "      <td>0</td>\n",
       "      <td>0</td>\n",
       "      <td>0</td>\n",
       "      <td>...</td>\n",
       "      <td>0</td>\n",
       "      <td>0</td>\n",
       "      <td>0</td>\n",
       "      <td>1</td>\n",
       "      <td>0</td>\n",
       "      <td>0</td>\n",
       "      <td>0</td>\n",
       "      <td>1</td>\n",
       "      <td>0</td>\n",
       "      <td>0</td>\n",
       "    </tr>\n",
       "  </tbody>\n",
       "</table>\n",
       "<p>5 rows × 25 columns</p>\n",
       "</div>"
      ],
      "text/plain": [
       "   pclass  survived  sibsp  parch  FamilySize  Sex_female  Sex_male  \\\n",
       "0     1.0       1.0    0.0    0.0         1.0           1         0   \n",
       "1     1.0       1.0    1.0    2.0         4.0           0         1   \n",
       "2     1.0       0.0    1.0    2.0         4.0           1         0   \n",
       "3     1.0       0.0    1.0    2.0         4.0           0         1   \n",
       "4     1.0       0.0    1.0    2.0         4.0           1         0   \n",
       "\n",
       "   Title_Master  Title_Miss  Title_Mr  ...  Age_type_Elder  Embark_type_C  \\\n",
       "0             0           1         0  ...               0              0   \n",
       "1             1           0         0  ...               0              0   \n",
       "2             0           1         0  ...               0              0   \n",
       "3             0           0         1  ...               0              0   \n",
       "4             0           0         0  ...               0              0   \n",
       "\n",
       "   Embark_type_Q  Embark_type_S  Fare_type_very_low_fare  Fare_type_low_fare  \\\n",
       "0              0              1                        0                   0   \n",
       "1              0              1                        0                   0   \n",
       "2              0              1                        0                   0   \n",
       "3              0              1                        0                   0   \n",
       "4              0              1                        0                   0   \n",
       "\n",
       "   Fare_type_average_fare  Fare_type_above_average_fare  Fare_type_high_fare  \\\n",
       "0                       0                             0                    1   \n",
       "1                       0                             1                    0   \n",
       "2                       0                             1                    0   \n",
       "3                       0                             1                    0   \n",
       "4                       0                             1                    0   \n",
       "\n",
       "   Fare_type_very_high_fare  \n",
       "0                         0  \n",
       "1                         0  \n",
       "2                         0  \n",
       "3                         0  \n",
       "4                         0  \n",
       "\n",
       "[5 rows x 25 columns]"
      ]
     },
     "execution_count": 354,
     "metadata": {},
     "output_type": "execute_result"
    }
   ],
   "source": [
    "print(titanic_dataset.shape)\n",
    "titanic_dataset_2.head()"
   ]
  },
  {
   "cell_type": "code",
   "execution_count": null,
   "id": "4f51965d",
   "metadata": {},
   "outputs": [],
   "source": []
  },
  {
   "cell_type": "code",
   "execution_count": 355,
   "id": "ec332ed1",
   "metadata": {},
   "outputs": [
    {
     "data": {
      "text/plain": [
       "pclass                          float64\n",
       "survived                        float64\n",
       "sibsp                           float64\n",
       "parch                           float64\n",
       "FamilySize                      float64\n",
       "Sex_female                        uint8\n",
       "Sex_male                          uint8\n",
       "Title_Master                      uint8\n",
       "Title_Miss                        uint8\n",
       "Title_Mr                          uint8\n",
       "Title_Mrs                         uint8\n",
       "Title_Rare                        uint8\n",
       "Age_type_Children                 uint8\n",
       "Age_type_Teenage                  uint8\n",
       "Age_type_Adult                    uint8\n",
       "Age_type_Elder                    uint8\n",
       "Embark_type_C                     uint8\n",
       "Embark_type_Q                     uint8\n",
       "Embark_type_S                     uint8\n",
       "Fare_type_very_low_fare           uint8\n",
       "Fare_type_low_fare                uint8\n",
       "Fare_type_average_fare            uint8\n",
       "Fare_type_above_average_fare      uint8\n",
       "Fare_type_high_fare               uint8\n",
       "Fare_type_very_high_fare          uint8\n",
       "dtype: object"
      ]
     },
     "execution_count": 355,
     "metadata": {},
     "output_type": "execute_result"
    }
   ],
   "source": [
    "titanic_dataset_2.dtypes"
   ]
  },
  {
   "cell_type": "code",
   "execution_count": 356,
   "id": "dda5f55e",
   "metadata": {},
   "outputs": [],
   "source": [
    "le_1 = LabelEncoder()\n",
    "for i in titanic_dataset_2.columns:\n",
    "    if (titanic_dataset_2[i].dtypes) == \"float64\":\n",
    "        titanic_dataset_2[i] = le_1.fit_transform(titanic_dataset_2[i])"
   ]
  },
  {
   "cell_type": "code",
   "execution_count": null,
   "id": "fc39c8b1",
   "metadata": {},
   "outputs": [],
   "source": []
  },
  {
   "cell_type": "code",
   "execution_count": 357,
   "id": "1d1df019",
   "metadata": {},
   "outputs": [
    {
     "data": {
      "text/html": [
       "<div>\n",
       "<style scoped>\n",
       "    .dataframe tbody tr th:only-of-type {\n",
       "        vertical-align: middle;\n",
       "    }\n",
       "\n",
       "    .dataframe tbody tr th {\n",
       "        vertical-align: top;\n",
       "    }\n",
       "\n",
       "    .dataframe thead th {\n",
       "        text-align: right;\n",
       "    }\n",
       "</style>\n",
       "<table border=\"1\" class=\"dataframe\">\n",
       "  <thead>\n",
       "    <tr style=\"text-align: right;\">\n",
       "      <th></th>\n",
       "      <th>pclass</th>\n",
       "      <th>survived</th>\n",
       "      <th>sibsp</th>\n",
       "      <th>parch</th>\n",
       "      <th>FamilySize</th>\n",
       "      <th>Sex_female</th>\n",
       "      <th>Sex_male</th>\n",
       "      <th>Title_Master</th>\n",
       "      <th>Title_Miss</th>\n",
       "      <th>Title_Mr</th>\n",
       "      <th>...</th>\n",
       "      <th>Age_type_Elder</th>\n",
       "      <th>Embark_type_C</th>\n",
       "      <th>Embark_type_Q</th>\n",
       "      <th>Embark_type_S</th>\n",
       "      <th>Fare_type_very_low_fare</th>\n",
       "      <th>Fare_type_low_fare</th>\n",
       "      <th>Fare_type_average_fare</th>\n",
       "      <th>Fare_type_above_average_fare</th>\n",
       "      <th>Fare_type_high_fare</th>\n",
       "      <th>Fare_type_very_high_fare</th>\n",
       "    </tr>\n",
       "  </thead>\n",
       "  <tbody>\n",
       "    <tr>\n",
       "      <th>0</th>\n",
       "      <td>0</td>\n",
       "      <td>1</td>\n",
       "      <td>0</td>\n",
       "      <td>0</td>\n",
       "      <td>0</td>\n",
       "      <td>1</td>\n",
       "      <td>0</td>\n",
       "      <td>0</td>\n",
       "      <td>1</td>\n",
       "      <td>0</td>\n",
       "      <td>...</td>\n",
       "      <td>0</td>\n",
       "      <td>0</td>\n",
       "      <td>0</td>\n",
       "      <td>1</td>\n",
       "      <td>0</td>\n",
       "      <td>0</td>\n",
       "      <td>0</td>\n",
       "      <td>0</td>\n",
       "      <td>1</td>\n",
       "      <td>0</td>\n",
       "    </tr>\n",
       "    <tr>\n",
       "      <th>1</th>\n",
       "      <td>0</td>\n",
       "      <td>1</td>\n",
       "      <td>1</td>\n",
       "      <td>2</td>\n",
       "      <td>3</td>\n",
       "      <td>0</td>\n",
       "      <td>1</td>\n",
       "      <td>1</td>\n",
       "      <td>0</td>\n",
       "      <td>0</td>\n",
       "      <td>...</td>\n",
       "      <td>0</td>\n",
       "      <td>0</td>\n",
       "      <td>0</td>\n",
       "      <td>1</td>\n",
       "      <td>0</td>\n",
       "      <td>0</td>\n",
       "      <td>0</td>\n",
       "      <td>1</td>\n",
       "      <td>0</td>\n",
       "      <td>0</td>\n",
       "    </tr>\n",
       "    <tr>\n",
       "      <th>2</th>\n",
       "      <td>0</td>\n",
       "      <td>0</td>\n",
       "      <td>1</td>\n",
       "      <td>2</td>\n",
       "      <td>3</td>\n",
       "      <td>1</td>\n",
       "      <td>0</td>\n",
       "      <td>0</td>\n",
       "      <td>1</td>\n",
       "      <td>0</td>\n",
       "      <td>...</td>\n",
       "      <td>0</td>\n",
       "      <td>0</td>\n",
       "      <td>0</td>\n",
       "      <td>1</td>\n",
       "      <td>0</td>\n",
       "      <td>0</td>\n",
       "      <td>0</td>\n",
       "      <td>1</td>\n",
       "      <td>0</td>\n",
       "      <td>0</td>\n",
       "    </tr>\n",
       "    <tr>\n",
       "      <th>3</th>\n",
       "      <td>0</td>\n",
       "      <td>0</td>\n",
       "      <td>1</td>\n",
       "      <td>2</td>\n",
       "      <td>3</td>\n",
       "      <td>0</td>\n",
       "      <td>1</td>\n",
       "      <td>0</td>\n",
       "      <td>0</td>\n",
       "      <td>1</td>\n",
       "      <td>...</td>\n",
       "      <td>0</td>\n",
       "      <td>0</td>\n",
       "      <td>0</td>\n",
       "      <td>1</td>\n",
       "      <td>0</td>\n",
       "      <td>0</td>\n",
       "      <td>0</td>\n",
       "      <td>1</td>\n",
       "      <td>0</td>\n",
       "      <td>0</td>\n",
       "    </tr>\n",
       "    <tr>\n",
       "      <th>4</th>\n",
       "      <td>0</td>\n",
       "      <td>0</td>\n",
       "      <td>1</td>\n",
       "      <td>2</td>\n",
       "      <td>3</td>\n",
       "      <td>1</td>\n",
       "      <td>0</td>\n",
       "      <td>0</td>\n",
       "      <td>0</td>\n",
       "      <td>0</td>\n",
       "      <td>...</td>\n",
       "      <td>0</td>\n",
       "      <td>0</td>\n",
       "      <td>0</td>\n",
       "      <td>1</td>\n",
       "      <td>0</td>\n",
       "      <td>0</td>\n",
       "      <td>0</td>\n",
       "      <td>1</td>\n",
       "      <td>0</td>\n",
       "      <td>0</td>\n",
       "    </tr>\n",
       "  </tbody>\n",
       "</table>\n",
       "<p>5 rows × 25 columns</p>\n",
       "</div>"
      ],
      "text/plain": [
       "   pclass  survived  sibsp  parch  FamilySize  Sex_female  Sex_male  \\\n",
       "0       0         1      0      0           0           1         0   \n",
       "1       0         1      1      2           3           0         1   \n",
       "2       0         0      1      2           3           1         0   \n",
       "3       0         0      1      2           3           0         1   \n",
       "4       0         0      1      2           3           1         0   \n",
       "\n",
       "   Title_Master  Title_Miss  Title_Mr  ...  Age_type_Elder  Embark_type_C  \\\n",
       "0             0           1         0  ...               0              0   \n",
       "1             1           0         0  ...               0              0   \n",
       "2             0           1         0  ...               0              0   \n",
       "3             0           0         1  ...               0              0   \n",
       "4             0           0         0  ...               0              0   \n",
       "\n",
       "   Embark_type_Q  Embark_type_S  Fare_type_very_low_fare  Fare_type_low_fare  \\\n",
       "0              0              1                        0                   0   \n",
       "1              0              1                        0                   0   \n",
       "2              0              1                        0                   0   \n",
       "3              0              1                        0                   0   \n",
       "4              0              1                        0                   0   \n",
       "\n",
       "   Fare_type_average_fare  Fare_type_above_average_fare  Fare_type_high_fare  \\\n",
       "0                       0                             0                    1   \n",
       "1                       0                             1                    0   \n",
       "2                       0                             1                    0   \n",
       "3                       0                             1                    0   \n",
       "4                       0                             1                    0   \n",
       "\n",
       "   Fare_type_very_high_fare  \n",
       "0                         0  \n",
       "1                         0  \n",
       "2                         0  \n",
       "3                         0  \n",
       "4                         0  \n",
       "\n",
       "[5 rows x 25 columns]"
      ]
     },
     "execution_count": 357,
     "metadata": {},
     "output_type": "execute_result"
    }
   ],
   "source": [
    "titanic_dataset_2.head()"
   ]
  },
  {
   "cell_type": "code",
   "execution_count": 358,
   "id": "2759767f",
   "metadata": {},
   "outputs": [
    {
     "data": {
      "image/png": "[encoded data removed]",
      "text/plain": [
       "<Figure size 1152x504 with 2 Axes>"
      ]
     },
     "metadata": {
      "needs_background": "light"
     },
     "output_type": "display_data"
    }
   ],
   "source": [
    "plt.figure(figsize = (16,7))\n",
    "sns.heatmap(titanic_dataset_2.corr(),annot = True)\n",
    "plt.show()"
   ]
  },
  {
   "cell_type": "code",
   "execution_count": null,
   "id": "7fd4f71f",
   "metadata": {},
   "outputs": [],
   "source": []
  },
  {
   "cell_type": "code",
   "execution_count": 359,
   "id": "3454fc3f",
   "metadata": {},
   "outputs": [],
   "source": [
    "import sklearn\n",
    "from sklearn.preprocessing import LabelEncoder\n",
    "le = LabelEncoder()"
   ]
  },
  {
   "cell_type": "code",
   "execution_count": 360,
   "id": "6345013d",
   "metadata": {},
   "outputs": [],
   "source": [
    "titanic_dataset_3 = titanic_dataset_1"
   ]
  },
  {
   "cell_type": "code",
   "execution_count": 361,
   "id": "c957ac50",
   "metadata": {},
   "outputs": [
    {
     "data": {
      "text/html": [
       "<div>\n",
       "<style scoped>\n",
       "    .dataframe tbody tr th:only-of-type {\n",
       "        vertical-align: middle;\n",
       "    }\n",
       "\n",
       "    .dataframe tbody tr th {\n",
       "        vertical-align: top;\n",
       "    }\n",
       "\n",
       "    .dataframe thead th {\n",
       "        text-align: right;\n",
       "    }\n",
       "</style>\n",
       "<table border=\"1\" class=\"dataframe\">\n",
       "  <thead>\n",
       "    <tr style=\"text-align: right;\">\n",
       "      <th></th>\n",
       "      <th>pclass</th>\n",
       "      <th>survived</th>\n",
       "      <th>sex</th>\n",
       "      <th>sibsp</th>\n",
       "      <th>parch</th>\n",
       "      <th>embarked</th>\n",
       "      <th>FamilySize</th>\n",
       "      <th>Title</th>\n",
       "      <th>Age_bin</th>\n",
       "      <th>Fare_bin</th>\n",
       "    </tr>\n",
       "  </thead>\n",
       "  <tbody>\n",
       "    <tr>\n",
       "      <th>0</th>\n",
       "      <td>1.0</td>\n",
       "      <td>1.0</td>\n",
       "      <td>female</td>\n",
       "      <td>0.0</td>\n",
       "      <td>0.0</td>\n",
       "      <td>S</td>\n",
       "      <td>1.0</td>\n",
       "      <td>Miss</td>\n",
       "      <td>Adult</td>\n",
       "      <td>high_fare</td>\n",
       "    </tr>\n",
       "    <tr>\n",
       "      <th>1</th>\n",
       "      <td>1.0</td>\n",
       "      <td>1.0</td>\n",
       "      <td>male</td>\n",
       "      <td>1.0</td>\n",
       "      <td>2.0</td>\n",
       "      <td>S</td>\n",
       "      <td>4.0</td>\n",
       "      <td>Master</td>\n",
       "      <td>Children</td>\n",
       "      <td>above_average_fare</td>\n",
       "    </tr>\n",
       "    <tr>\n",
       "      <th>2</th>\n",
       "      <td>1.0</td>\n",
       "      <td>0.0</td>\n",
       "      <td>female</td>\n",
       "      <td>1.0</td>\n",
       "      <td>2.0</td>\n",
       "      <td>S</td>\n",
       "      <td>4.0</td>\n",
       "      <td>Miss</td>\n",
       "      <td>Children</td>\n",
       "      <td>above_average_fare</td>\n",
       "    </tr>\n",
       "    <tr>\n",
       "      <th>3</th>\n",
       "      <td>1.0</td>\n",
       "      <td>0.0</td>\n",
       "      <td>male</td>\n",
       "      <td>1.0</td>\n",
       "      <td>2.0</td>\n",
       "      <td>S</td>\n",
       "      <td>4.0</td>\n",
       "      <td>Mr</td>\n",
       "      <td>Adult</td>\n",
       "      <td>above_average_fare</td>\n",
       "    </tr>\n",
       "    <tr>\n",
       "      <th>4</th>\n",
       "      <td>1.0</td>\n",
       "      <td>0.0</td>\n",
       "      <td>female</td>\n",
       "      <td>1.0</td>\n",
       "      <td>2.0</td>\n",
       "      <td>S</td>\n",
       "      <td>4.0</td>\n",
       "      <td>Mrs</td>\n",
       "      <td>Adult</td>\n",
       "      <td>above_average_fare</td>\n",
       "    </tr>\n",
       "  </tbody>\n",
       "</table>\n",
       "</div>"
      ],
      "text/plain": [
       "   pclass  survived     sex  sibsp  parch embarked  FamilySize   Title  \\\n",
       "0     1.0       1.0  female    0.0    0.0        S         1.0    Miss   \n",
       "1     1.0       1.0    male    1.0    2.0        S         4.0  Master   \n",
       "2     1.0       0.0  female    1.0    2.0        S         4.0    Miss   \n",
       "3     1.0       0.0    male    1.0    2.0        S         4.0      Mr   \n",
       "4     1.0       0.0  female    1.0    2.0        S         4.0     Mrs   \n",
       "\n",
       "    Age_bin            Fare_bin  \n",
       "0     Adult           high_fare  \n",
       "1  Children  above_average_fare  \n",
       "2  Children  above_average_fare  \n",
       "3     Adult  above_average_fare  \n",
       "4     Adult  above_average_fare  "
      ]
     },
     "execution_count": 361,
     "metadata": {},
     "output_type": "execute_result"
    }
   ],
   "source": [
    "titanic_dataset_3.head()"
   ]
  },
  {
   "cell_type": "code",
   "execution_count": 362,
   "id": "1cb21a7e",
   "metadata": {},
   "outputs": [],
   "source": [
    "for i in titanic_dataset_3.columns:\n",
    "    titanic_dataset_3[i] = le.fit_transform(titanic_dataset_3[i])"
   ]
  },
  {
   "cell_type": "code",
   "execution_count": 363,
   "id": "0d2f86fd",
   "metadata": {},
   "outputs": [
    {
     "data": {
      "text/html": [
       "<div>\n",
       "<style scoped>\n",
       "    .dataframe tbody tr th:only-of-type {\n",
       "        vertical-align: middle;\n",
       "    }\n",
       "\n",
       "    .dataframe tbody tr th {\n",
       "        vertical-align: top;\n",
       "    }\n",
       "\n",
       "    .dataframe thead th {\n",
       "        text-align: right;\n",
       "    }\n",
       "</style>\n",
       "<table border=\"1\" class=\"dataframe\">\n",
       "  <thead>\n",
       "    <tr style=\"text-align: right;\">\n",
       "      <th></th>\n",
       "      <th>pclass</th>\n",
       "      <th>survived</th>\n",
       "      <th>sex</th>\n",
       "      <th>sibsp</th>\n",
       "      <th>parch</th>\n",
       "      <th>embarked</th>\n",
       "      <th>FamilySize</th>\n",
       "      <th>Title</th>\n",
       "      <th>Age_bin</th>\n",
       "      <th>Fare_bin</th>\n",
       "    </tr>\n",
       "  </thead>\n",
       "  <tbody>\n",
       "    <tr>\n",
       "      <th>0</th>\n",
       "      <td>0</td>\n",
       "      <td>1</td>\n",
       "      <td>0</td>\n",
       "      <td>0</td>\n",
       "      <td>0</td>\n",
       "      <td>2</td>\n",
       "      <td>0</td>\n",
       "      <td>1</td>\n",
       "      <td>0</td>\n",
       "      <td>2</td>\n",
       "    </tr>\n",
       "    <tr>\n",
       "      <th>1</th>\n",
       "      <td>0</td>\n",
       "      <td>1</td>\n",
       "      <td>1</td>\n",
       "      <td>1</td>\n",
       "      <td>2</td>\n",
       "      <td>2</td>\n",
       "      <td>3</td>\n",
       "      <td>0</td>\n",
       "      <td>1</td>\n",
       "      <td>0</td>\n",
       "    </tr>\n",
       "    <tr>\n",
       "      <th>2</th>\n",
       "      <td>0</td>\n",
       "      <td>0</td>\n",
       "      <td>0</td>\n",
       "      <td>1</td>\n",
       "      <td>2</td>\n",
       "      <td>2</td>\n",
       "      <td>3</td>\n",
       "      <td>1</td>\n",
       "      <td>1</td>\n",
       "      <td>0</td>\n",
       "    </tr>\n",
       "    <tr>\n",
       "      <th>3</th>\n",
       "      <td>0</td>\n",
       "      <td>0</td>\n",
       "      <td>1</td>\n",
       "      <td>1</td>\n",
       "      <td>2</td>\n",
       "      <td>2</td>\n",
       "      <td>3</td>\n",
       "      <td>2</td>\n",
       "      <td>0</td>\n",
       "      <td>0</td>\n",
       "    </tr>\n",
       "    <tr>\n",
       "      <th>4</th>\n",
       "      <td>0</td>\n",
       "      <td>0</td>\n",
       "      <td>0</td>\n",
       "      <td>1</td>\n",
       "      <td>2</td>\n",
       "      <td>2</td>\n",
       "      <td>3</td>\n",
       "      <td>3</td>\n",
       "      <td>0</td>\n",
       "      <td>0</td>\n",
       "    </tr>\n",
       "  </tbody>\n",
       "</table>\n",
       "</div>"
      ],
      "text/plain": [
       "   pclass  survived  sex  sibsp  parch  embarked  FamilySize  Title  Age_bin  \\\n",
       "0       0         1    0      0      0         2           0      1        0   \n",
       "1       0         1    1      1      2         2           3      0        1   \n",
       "2       0         0    0      1      2         2           3      1        1   \n",
       "3       0         0    1      1      2         2           3      2        0   \n",
       "4       0         0    0      1      2         2           3      3        0   \n",
       "\n",
       "   Fare_bin  \n",
       "0         2  \n",
       "1         0  \n",
       "2         0  \n",
       "3         0  \n",
       "4         0  "
      ]
     },
     "execution_count": 363,
     "metadata": {},
     "output_type": "execute_result"
    }
   ],
   "source": [
    "titanic_dataset_3.head()"
   ]
  },
  {
   "cell_type": "code",
   "execution_count": 364,
   "id": "6beb8adf",
   "metadata": {},
   "outputs": [
    {
     "data": {
      "image/png": "[encoded data removed]",
      "text/plain": [
       "<Figure size 1152x504 with 2 Axes>"
      ]
     },
     "metadata": {
      "needs_background": "light"
     },
     "output_type": "display_data"
    }
   ],
   "source": [
    "plt.figure(figsize = (16,7))\n",
    "sns.heatmap(titanic_dataset_3.corr(),annot = True)\n",
    "plt.show()"
   ]
  },
  {
   "cell_type": "markdown",
   "id": "c3ff1b7a",
   "metadata": {},
   "source": [
    "### titanic_dataset = original dataset;\n",
    "### titanic_dataset_1 = data cleaned dataset;\n",
    "### titanic_dataset_2 = data dummeid dataset from titanic_dataset_1;\n",
    "### titanic_dataset_3 = data label encoded dataset from titanic_dataset_1;\n",
    "### titanic_dataset_2_1 = bestKselected data from dataset_2;\n",
    "### titanic_dataset_2_2 = decomposed data from dataset_2;\n",
    "### titanic_dataset_3_1 = bestKselected data from dataset_3;\n",
    "### titanic_dataset_3_2 = decomposed data from dataset_3;"
   ]
  },
  {
   "cell_type": "code",
   "execution_count": 365,
   "id": "9b2b4d19",
   "metadata": {},
   "outputs": [
    {
     "name": "stdout",
     "output_type": "stream",
     "text": [
      "(1310, 14)\n",
      "(1306, 10)\n",
      "(1306, 25)\n",
      "(1306, 10)\n"
     ]
    }
   ],
   "source": [
    "print(titanic_dataset.shape)\n",
    "print(titanic_dataset_1.shape)\n",
    "print(titanic_dataset_2.shape)\n",
    "print(titanic_dataset_3.shape)"
   ]
  },
  {
   "cell_type": "code",
   "execution_count": 366,
   "id": "869819e9",
   "metadata": {},
   "outputs": [],
   "source": [
    "X_2 = titanic_dataset_2.drop(\"survived\",axis = 1)\n",
    "y_2 = titanic_dataset_2[\"survived\"]\n",
    "\n",
    "X_3 = titanic_dataset_3.drop(\"survived\",axis = 1)\n",
    "y_3 = titanic_dataset_3[\"survived\"]"
   ]
  },
  {
   "cell_type": "code",
   "execution_count": 367,
   "id": "eac8b5e2",
   "metadata": {},
   "outputs": [
    {
     "name": "stdout",
     "output_type": "stream",
     "text": [
      "(1306, 24) (1306,)\n",
      "(1306, 9) (1306,)\n"
     ]
    }
   ],
   "source": [
    "print(X_2.shape,y_2.shape)\n",
    "print(X_3.shape,y_3.shape)"
   ]
  },
  {
   "cell_type": "code",
   "execution_count": 368,
   "id": "c2ff21f9",
   "metadata": {},
   "outputs": [],
   "source": [
    "from sklearn.feature_selection import SelectKBest, chi2\n",
    "from sklearn.decomposition import PCA"
   ]
  },
  {
   "cell_type": "code",
   "execution_count": null,
   "id": "4d84089a",
   "metadata": {},
   "outputs": [],
   "source": []
  },
  {
   "cell_type": "code",
   "execution_count": 369,
   "id": "9938d386",
   "metadata": {},
   "outputs": [],
   "source": [
    "select_best_2 = SelectKBest(chi2, k = 20)"
   ]
  },
  {
   "cell_type": "code",
   "execution_count": 370,
   "id": "ffb104b6",
   "metadata": {},
   "outputs": [],
   "source": [
    "titanic_dataset_2_1 = select_best_2.fit_transform(X_2,y_2)"
   ]
  },
  {
   "cell_type": "code",
   "execution_count": 371,
   "id": "83d6c4f8",
   "metadata": {},
   "outputs": [
    {
     "data": {
      "text/plain": [
       "array([6.78091551e+01, 8.27853145e-01, 1.90002663e+01, 4.89544135e+00,\n",
       "       2.34067793e+02, 1.28987477e+02, 4.16255445e+00, 9.73384185e+01,\n",
       "       1.53158677e+02, 1.37297153e+02, 4.94980948e-04, 1.48650993e+01,\n",
       "       4.48983797e-02, 2.28592809e+00, 1.95806588e-01, 3.47454504e+01,\n",
       "       2.90223520e-01, 9.04663654e+00, 1.48914850e+01, 3.82482072e+01,\n",
       "       2.31213245e+01, 3.01905948e+00, 3.21722960e+00, 1.40914742e+01])"
      ]
     },
     "execution_count": 371,
     "metadata": {},
     "output_type": "execute_result"
    }
   ],
   "source": [
    "(select_best_2.scores_)"
   ]
  },
  {
   "cell_type": "code",
   "execution_count": 372,
   "id": "46b3f917",
   "metadata": {},
   "outputs": [
    {
     "data": {
      "text/plain": [
       "(1306, 20)"
      ]
     },
     "execution_count": 372,
     "metadata": {},
     "output_type": "execute_result"
    }
   ],
   "source": [
    "titanic_dataset_2_1.shape"
   ]
  },
  {
   "cell_type": "code",
   "execution_count": null,
   "id": "2ba03d4e",
   "metadata": {},
   "outputs": [],
   "source": []
  },
  {
   "cell_type": "code",
   "execution_count": 373,
   "id": "b2e14a4e",
   "metadata": {},
   "outputs": [],
   "source": [
    "select_best_3 = SelectKBest(chi2, k = 7)"
   ]
  },
  {
   "cell_type": "code",
   "execution_count": 374,
   "id": "2a251ede",
   "metadata": {},
   "outputs": [],
   "source": [
    "titanic_dataset_3_1 = select_best_3.fit_transform(X_3,y_3)"
   ]
  },
  {
   "cell_type": "code",
   "execution_count": 375,
   "id": "3dd7f584",
   "metadata": {},
   "outputs": [
    {
     "data": {
      "text/plain": [
       "array([ 67.80915511, 128.98747721,   0.82785314,  19.00026633,\n",
       "        18.0841478 ,   4.89544135,   0.30797655,   3.6661878 ,\n",
       "        19.9262953 ])"
      ]
     },
     "execution_count": 375,
     "metadata": {},
     "output_type": "execute_result"
    }
   ],
   "source": [
    "select_best_3.scores_"
   ]
  },
  {
   "cell_type": "code",
   "execution_count": 376,
   "id": "82e7eaa8",
   "metadata": {},
   "outputs": [
    {
     "data": {
      "text/plain": [
       "(1306, 7)"
      ]
     },
     "execution_count": 376,
     "metadata": {},
     "output_type": "execute_result"
    }
   ],
   "source": [
    "titanic_dataset_3_1.shape"
   ]
  },
  {
   "cell_type": "code",
   "execution_count": null,
   "id": "4001e391",
   "metadata": {},
   "outputs": [],
   "source": []
  },
  {
   "cell_type": "code",
   "execution_count": 377,
   "id": "59e38d23",
   "metadata": {},
   "outputs": [],
   "source": [
    "pca_2 = PCA(n_components = 16)\n",
    "titanic_dataset_2_2 = pca_2.fit_transform(X_2,y_2)\n",
    "pca_3 = PCA(n_components = 6)\n",
    "titanic_dataset_3_2 = pca_3.fit_transform(X_3,y_3)"
   ]
  },
  {
   "cell_type": "code",
   "execution_count": 378,
   "id": "1a71668a",
   "metadata": {},
   "outputs": [
    {
     "name": "stdout",
     "output_type": "stream",
     "text": [
      "(1306, 16) (1306, 6)\n"
     ]
    }
   ],
   "source": [
    "print(titanic_dataset_2_2.shape,titanic_dataset_3_2.shape)"
   ]
  },
  {
   "cell_type": "code",
   "execution_count": null,
   "id": "750feb32",
   "metadata": {},
   "outputs": [],
   "source": []
  },
  {
   "cell_type": "code",
   "execution_count": 379,
   "id": "9783f423",
   "metadata": {},
   "outputs": [],
   "source": [
    "X_1 = titanic_dataset_1.drop(\"survived\",axis = 1)\n",
    "X_2 = titanic_dataset_2.drop(\"survived\",axis = 1)\n",
    "X_3 = titanic_dataset_3.drop(\"survived\",axis = 1)\n",
    "X_2_1 = titanic_dataset_2_1\n",
    "X_2_2 = titanic_dataset_2_2\n",
    "X_3_1 = titanic_dataset_3_1\n",
    "X_3_2 = titanic_dataset_3_2"
   ]
  },
  {
   "cell_type": "code",
   "execution_count": 380,
   "id": "669bcb85",
   "metadata": {},
   "outputs": [
    {
     "name": "stdout",
     "output_type": "stream",
     "text": [
      "(1306, 9)\n",
      "(1306, 24) (1306, 20) (1306, 16)\n",
      "(1306, 9) (1306, 7) (1306, 6)\n"
     ]
    }
   ],
   "source": [
    "print(X_1.shape)\n",
    "print(X_2.shape,X_2_1.shape,X_2_2.shape)\n",
    "print(X_3.shape,X_3_1.shape,X_3_2.shape)"
   ]
  },
  {
   "cell_type": "code",
   "execution_count": 381,
   "id": "4d845f65",
   "metadata": {},
   "outputs": [
    {
     "data": {
      "text/plain": [
       "(0    1\n",
       " 1    1\n",
       " 2    0\n",
       " 3    0\n",
       " 4    0\n",
       " Name: survived, dtype: int64,\n",
       " 0    1\n",
       " 1    1\n",
       " 2    0\n",
       " 3    0\n",
       " 4    0\n",
       " Name: survived, dtype: int64)"
      ]
     },
     "execution_count": 381,
     "metadata": {},
     "output_type": "execute_result"
    }
   ],
   "source": [
    "y_2.head(),y_3.head()"
   ]
  },
  {
   "cell_type": "code",
   "execution_count": 382,
   "id": "e273b460",
   "metadata": {},
   "outputs": [],
   "source": [
    "y = y_2"
   ]
  },
  {
   "cell_type": "code",
   "execution_count": null,
   "id": "8b3f344d",
   "metadata": {},
   "outputs": [],
   "source": []
  },
  {
   "cell_type": "code",
   "execution_count": 383,
   "id": "d75d2603",
   "metadata": {},
   "outputs": [
    {
     "data": {
      "text/html": [
       "<div>\n",
       "<style scoped>\n",
       "    .dataframe tbody tr th:only-of-type {\n",
       "        vertical-align: middle;\n",
       "    }\n",
       "\n",
       "    .dataframe tbody tr th {\n",
       "        vertical-align: top;\n",
       "    }\n",
       "\n",
       "    .dataframe thead th {\n",
       "        text-align: right;\n",
       "    }\n",
       "</style>\n",
       "<table border=\"1\" class=\"dataframe\">\n",
       "  <thead>\n",
       "    <tr style=\"text-align: right;\">\n",
       "      <th></th>\n",
       "      <th>pclass</th>\n",
       "      <th>sibsp</th>\n",
       "      <th>parch</th>\n",
       "      <th>FamilySize</th>\n",
       "      <th>Sex_female</th>\n",
       "      <th>Sex_male</th>\n",
       "      <th>Title_Master</th>\n",
       "      <th>Title_Miss</th>\n",
       "      <th>Title_Mr</th>\n",
       "      <th>Title_Mrs</th>\n",
       "      <th>...</th>\n",
       "      <th>Age_type_Elder</th>\n",
       "      <th>Embark_type_C</th>\n",
       "      <th>Embark_type_Q</th>\n",
       "      <th>Embark_type_S</th>\n",
       "      <th>Fare_type_very_low_fare</th>\n",
       "      <th>Fare_type_low_fare</th>\n",
       "      <th>Fare_type_average_fare</th>\n",
       "      <th>Fare_type_above_average_fare</th>\n",
       "      <th>Fare_type_high_fare</th>\n",
       "      <th>Fare_type_very_high_fare</th>\n",
       "    </tr>\n",
       "  </thead>\n",
       "  <tbody>\n",
       "    <tr>\n",
       "      <th>0</th>\n",
       "      <td>0</td>\n",
       "      <td>0</td>\n",
       "      <td>0</td>\n",
       "      <td>0</td>\n",
       "      <td>1</td>\n",
       "      <td>0</td>\n",
       "      <td>0</td>\n",
       "      <td>1</td>\n",
       "      <td>0</td>\n",
       "      <td>0</td>\n",
       "      <td>...</td>\n",
       "      <td>0</td>\n",
       "      <td>0</td>\n",
       "      <td>0</td>\n",
       "      <td>1</td>\n",
       "      <td>0</td>\n",
       "      <td>0</td>\n",
       "      <td>0</td>\n",
       "      <td>0</td>\n",
       "      <td>1</td>\n",
       "      <td>0</td>\n",
       "    </tr>\n",
       "    <tr>\n",
       "      <th>1</th>\n",
       "      <td>0</td>\n",
       "      <td>1</td>\n",
       "      <td>2</td>\n",
       "      <td>3</td>\n",
       "      <td>0</td>\n",
       "      <td>1</td>\n",
       "      <td>1</td>\n",
       "      <td>0</td>\n",
       "      <td>0</td>\n",
       "      <td>0</td>\n",
       "      <td>...</td>\n",
       "      <td>0</td>\n",
       "      <td>0</td>\n",
       "      <td>0</td>\n",
       "      <td>1</td>\n",
       "      <td>0</td>\n",
       "      <td>0</td>\n",
       "      <td>0</td>\n",
       "      <td>1</td>\n",
       "      <td>0</td>\n",
       "      <td>0</td>\n",
       "    </tr>\n",
       "    <tr>\n",
       "      <th>2</th>\n",
       "      <td>0</td>\n",
       "      <td>1</td>\n",
       "      <td>2</td>\n",
       "      <td>3</td>\n",
       "      <td>1</td>\n",
       "      <td>0</td>\n",
       "      <td>0</td>\n",
       "      <td>1</td>\n",
       "      <td>0</td>\n",
       "      <td>0</td>\n",
       "      <td>...</td>\n",
       "      <td>0</td>\n",
       "      <td>0</td>\n",
       "      <td>0</td>\n",
       "      <td>1</td>\n",
       "      <td>0</td>\n",
       "      <td>0</td>\n",
       "      <td>0</td>\n",
       "      <td>1</td>\n",
       "      <td>0</td>\n",
       "      <td>0</td>\n",
       "    </tr>\n",
       "    <tr>\n",
       "      <th>3</th>\n",
       "      <td>0</td>\n",
       "      <td>1</td>\n",
       "      <td>2</td>\n",
       "      <td>3</td>\n",
       "      <td>0</td>\n",
       "      <td>1</td>\n",
       "      <td>0</td>\n",
       "      <td>0</td>\n",
       "      <td>1</td>\n",
       "      <td>0</td>\n",
       "      <td>...</td>\n",
       "      <td>0</td>\n",
       "      <td>0</td>\n",
       "      <td>0</td>\n",
       "      <td>1</td>\n",
       "      <td>0</td>\n",
       "      <td>0</td>\n",
       "      <td>0</td>\n",
       "      <td>1</td>\n",
       "      <td>0</td>\n",
       "      <td>0</td>\n",
       "    </tr>\n",
       "    <tr>\n",
       "      <th>4</th>\n",
       "      <td>0</td>\n",
       "      <td>1</td>\n",
       "      <td>2</td>\n",
       "      <td>3</td>\n",
       "      <td>1</td>\n",
       "      <td>0</td>\n",
       "      <td>0</td>\n",
       "      <td>0</td>\n",
       "      <td>0</td>\n",
       "      <td>1</td>\n",
       "      <td>...</td>\n",
       "      <td>0</td>\n",
       "      <td>0</td>\n",
       "      <td>0</td>\n",
       "      <td>1</td>\n",
       "      <td>0</td>\n",
       "      <td>0</td>\n",
       "      <td>0</td>\n",
       "      <td>1</td>\n",
       "      <td>0</td>\n",
       "      <td>0</td>\n",
       "    </tr>\n",
       "  </tbody>\n",
       "</table>\n",
       "<p>5 rows × 24 columns</p>\n",
       "</div>"
      ],
      "text/plain": [
       "   pclass  sibsp  parch  FamilySize  Sex_female  Sex_male  Title_Master  \\\n",
       "0       0      0      0           0           1         0             0   \n",
       "1       0      1      2           3           0         1             1   \n",
       "2       0      1      2           3           1         0             0   \n",
       "3       0      1      2           3           0         1             0   \n",
       "4       0      1      2           3           1         0             0   \n",
       "\n",
       "   Title_Miss  Title_Mr  Title_Mrs  ...  Age_type_Elder  Embark_type_C  \\\n",
       "0           1         0          0  ...               0              0   \n",
       "1           0         0          0  ...               0              0   \n",
       "2           1         0          0  ...               0              0   \n",
       "3           0         1          0  ...               0              0   \n",
       "4           0         0          1  ...               0              0   \n",
       "\n",
       "   Embark_type_Q  Embark_type_S  Fare_type_very_low_fare  Fare_type_low_fare  \\\n",
       "0              0              1                        0                   0   \n",
       "1              0              1                        0                   0   \n",
       "2              0              1                        0                   0   \n",
       "3              0              1                        0                   0   \n",
       "4              0              1                        0                   0   \n",
       "\n",
       "   Fare_type_average_fare  Fare_type_above_average_fare  Fare_type_high_fare  \\\n",
       "0                       0                             0                    1   \n",
       "1                       0                             1                    0   \n",
       "2                       0                             1                    0   \n",
       "3                       0                             1                    0   \n",
       "4                       0                             1                    0   \n",
       "\n",
       "   Fare_type_very_high_fare  \n",
       "0                         0  \n",
       "1                         0  \n",
       "2                         0  \n",
       "3                         0  \n",
       "4                         0  \n",
       "\n",
       "[5 rows x 24 columns]"
      ]
     },
     "execution_count": 383,
     "metadata": {},
     "output_type": "execute_result"
    }
   ],
   "source": [
    "X_2.head()"
   ]
  },
  {
   "cell_type": "code",
   "execution_count": 384,
   "id": "16e347d6",
   "metadata": {},
   "outputs": [],
   "source": [
    "from sklearn.model_selection import train_test_split\n",
    "from sklearn.linear_model import LogisticRegression\n",
    "from sklearn.linear_model import SGDClassifier \n",
    "from sklearn.svm import SVC\n",
    "from sklearn.ensemble import RandomForestClassifier\n",
    "from sklearn.metrics import accuracy_score, confusion_matrix\n",
    "from sklearn.model_selection import cross_val_score"
   ]
  },
  {
   "cell_type": "code",
   "execution_count": null,
   "id": "3d3a04b1",
   "metadata": {},
   "outputs": [],
   "source": []
  },
  {
   "cell_type": "code",
   "execution_count": 418,
   "id": "1804cdc1",
   "metadata": {},
   "outputs": [
    {
     "name": "stdout",
     "output_type": "stream",
     "text": [
      "0.7653256704980843\n",
      "0.8396946564885496\n",
      "0.7587022900763358\n"
     ]
    },
    {
     "data": {
      "text/plain": [
       "<AxesSubplot:>"
      ]
     },
     "execution_count": 418,
     "metadata": {},
     "output_type": "execute_result"
    },
    {
     "data": {
      "image/png": "[encoded data removed]",
      "text/plain": [
       "<Figure size 432x288 with 2 Axes>"
      ]
     },
     "metadata": {
      "needs_background": "light"
     },
     "output_type": "display_data"
    }
   ],
   "source": [
    "lr_1 = LogisticRegression()\n",
    "x_train,x_test,y_train,y_test = train_test_split(X_1,y_2,test_size = 0.2,random_state = 5)\n",
    "lr_1.fit(x_train,y_train)\n",
    "pred1 = lr_1.predict(x_train)\n",
    "pred2 = lr_1.predict(x_test)\n",
    "print(accuracy_score(y_train,pred1))\n",
    "print(accuracy_score(y_test,pred2))\n",
    "\n",
    "print(cross_val_score(lr_1,X_1,y_2,cv = 10).mean())\n",
    "\n",
    "sns.heatmap(confusion_matrix(y_test,pred2),annot = True,fmt = \"3.0f\",cmap = \"summer\")"
   ]
  },
  {
   "cell_type": "code",
   "execution_count": null,
   "id": "51d0f917",
   "metadata": {},
   "outputs": [],
   "source": []
  },
  {
   "cell_type": "code",
   "execution_count": 386,
   "id": "155c49a6",
   "metadata": {},
   "outputs": [
    {
     "name": "stdout",
     "output_type": "stream",
     "text": [
      "0.8065134099616859\n",
      "0.8320610687022901\n",
      "0.780857310628303\n"
     ]
    },
    {
     "data": {
      "text/plain": [
       "<AxesSubplot:>"
      ]
     },
     "execution_count": 386,
     "metadata": {},
     "output_type": "execute_result"
    },
    {
     "data": {
      "image/png": "[encoded data removed]",
      "text/plain": [
       "<Figure size 432x288 with 2 Axes>"
      ]
     },
     "metadata": {
      "needs_background": "light"
     },
     "output_type": "display_data"
    }
   ],
   "source": [
    "lr_2 = LogisticRegression()\n",
    "x_train,x_test,y_train,y_test = train_test_split(X_2,y_2,test_size = 0.2,random_state = 1)\n",
    "lr_2.fit(x_train,y_train)\n",
    "pred1 = lr_2.predict(x_train)\n",
    "pred2 = lr_2.predict(x_test)\n",
    "print(accuracy_score(y_train,pred1))\n",
    "print(accuracy_score(y_test,pred2))\n",
    "\n",
    "print(cross_val_score(lr_2,X_2,y_2,cv = 10).mean())\n",
    "\n",
    "sns.heatmap(confusion_matrix(y_test,pred2),annot = True,fmt = \"3.0f\",cmap = \"summer\")"
   ]
  },
  {
   "cell_type": "code",
   "execution_count": null,
   "id": "46e87afa",
   "metadata": {},
   "outputs": [],
   "source": []
  },
  {
   "cell_type": "code",
   "execution_count": 387,
   "id": "dbfd4157",
   "metadata": {},
   "outputs": [
    {
     "name": "stdout",
     "output_type": "stream",
     "text": [
      "0.7854406130268199\n",
      "0.7977099236641222\n",
      "0.7587022900763358\n"
     ]
    },
    {
     "data": {
      "text/plain": [
       "<AxesSubplot:>"
      ]
     },
     "execution_count": 387,
     "metadata": {},
     "output_type": "execute_result"
    },
    {
     "data": {
      "image/png": "[encoded data removed]",
      "text/plain": [
       "<Figure size 432x288 with 2 Axes>"
      ]
     },
     "metadata": {
      "needs_background": "light"
     },
     "output_type": "display_data"
    }
   ],
   "source": [
    "lr_3 = LogisticRegression()\n",
    "x_train,x_test,y_train,y_test = train_test_split(X_3,y_2,test_size = 0.2,random_state = 1)\n",
    "lr_3.fit(x_train,y_train)\n",
    "pred1 = lr_3.predict(x_train)\n",
    "pred2 = lr_3.predict(x_test)\n",
    "print(accuracy_score(y_train,pred1))\n",
    "print(accuracy_score(y_test,pred2))\n",
    "\n",
    "print(cross_val_score(lr_3,X_3,y_2,cv = 10).mean())\n",
    "\n",
    "sns.heatmap(confusion_matrix(y_test,pred2),annot = True,fmt = \"3.0f\",cmap = \"summer\")"
   ]
  },
  {
   "cell_type": "code",
   "execution_count": null,
   "id": "b3641d8e",
   "metadata": {},
   "outputs": [],
   "source": []
  },
  {
   "cell_type": "code",
   "execution_count": 388,
   "id": "f51ceadd",
   "metadata": {},
   "outputs": [
    {
     "name": "stdout",
     "output_type": "stream",
     "text": [
      "0.8065134099616859\n",
      "0.8244274809160306\n",
      "0.7587022900763358\n"
     ]
    },
    {
     "data": {
      "text/plain": [
       "<AxesSubplot:>"
      ]
     },
     "execution_count": 388,
     "metadata": {},
     "output_type": "execute_result"
    },
    {
     "data": {
      "image/png": "[encoded data removed]",
      "text/plain": [
       "<Figure size 432x288 with 2 Axes>"
      ]
     },
     "metadata": {
      "needs_background": "light"
     },
     "output_type": "display_data"
    }
   ],
   "source": [
    "lr_2_1 = LogisticRegression()\n",
    "x_train,x_test,y_train,y_test = train_test_split(X_2_1,y_2,test_size = 0.2,random_state = 1)\n",
    "lr_2_1.fit(x_train,y_train)\n",
    "pred1 = lr_2_1.predict(x_train)\n",
    "pred2 = lr_2_1.predict(x_test)\n",
    "print(accuracy_score(y_train,pred1))\n",
    "print(accuracy_score(y_test,pred2))\n",
    "\n",
    "print(cross_val_score(lr_2_1,X_1,y_2,cv = 10).mean())\n",
    "\n",
    "sns.heatmap(confusion_matrix(y_test,pred2),annot = True,fmt = \"3.0f\",cmap = \"summer\")"
   ]
  },
  {
   "cell_type": "code",
   "execution_count": null,
   "id": "c0746758",
   "metadata": {},
   "outputs": [],
   "source": []
  },
  {
   "cell_type": "code",
   "execution_count": 389,
   "id": "8586fd76",
   "metadata": {},
   "outputs": [
    {
     "name": "stdout",
     "output_type": "stream",
     "text": [
      "0.8084291187739464\n",
      "0.8358778625954199\n",
      "0.7747445684086907\n"
     ]
    },
    {
     "data": {
      "text/plain": [
       "<AxesSubplot:>"
      ]
     },
     "execution_count": 389,
     "metadata": {},
     "output_type": "execute_result"
    },
    {
     "data": {
      "image/png": "[encoded data removed]",
      "text/plain": [
       "<Figure size 432x288 with 2 Axes>"
      ]
     },
     "metadata": {
      "needs_background": "light"
     },
     "output_type": "display_data"
    }
   ],
   "source": [
    "lr_2_2 = LogisticRegression()\n",
    "x_train,x_test,y_train,y_test = train_test_split(X_2_2,y_2,test_size = 0.2,random_state = 1)\n",
    "lr_2_2.fit(x_train,y_train)\n",
    "pred1 = lr_2_2.predict(x_train)\n",
    "pred2 = lr_2_2.predict(x_test)\n",
    "print(accuracy_score(y_train,pred1))\n",
    "print(accuracy_score(y_test,pred2))\n",
    "\n",
    "print(cross_val_score(lr_2_2,X_2_2,y_2,cv = 10).mean())\n",
    "\n",
    "sns.heatmap(confusion_matrix(y_test,pred2),annot = True,fmt = \"3.0f\",cmap = \"summer\")"
   ]
  },
  {
   "cell_type": "code",
   "execution_count": null,
   "id": "0f23c8c9",
   "metadata": {},
   "outputs": [],
   "source": []
  },
  {
   "cell_type": "code",
   "execution_count": 291,
   "id": "ad08194e",
   "metadata": {},
   "outputs": [
    {
     "name": "stdout",
     "output_type": "stream",
     "text": [
      "0.7816091954022989\n",
      "0.7977099236641222\n",
      "0.7663652378156195\n"
     ]
    },
    {
     "data": {
      "text/plain": [
       "<AxesSubplot:>"
      ]
     },
     "execution_count": 291,
     "metadata": {},
     "output_type": "execute_result"
    },
    {
     "data": {
      "image/png": "[encoded data removed]",
      "text/plain": [
       "<Figure size 432x288 with 2 Axes>"
      ]
     },
     "metadata": {
      "needs_background": "light"
     },
     "output_type": "display_data"
    }
   ],
   "source": [
    "lr_3_1 = LogisticRegression()\n",
    "x_train,x_test,y_train,y_test = train_test_split(X_3_1,y_2,test_size = 0.2,random_state = 1)\n",
    "lr_3_1.fit(x_train,y_train)\n",
    "pred1 = lr_3_1.predict(x_train)\n",
    "pred2 = lr_3_1.predict(x_test)\n",
    "print(accuracy_score(y_train,pred1))\n",
    "print(accuracy_score(y_test,pred2))\n",
    "\n",
    "print(cross_val_score(lr_3_1,X_3_1,y_2,cv = 10).mean())\n",
    "\n",
    "sns.heatmap(confusion_matrix(y_test,pred2),annot = True,fmt = \"3.0f\",cmap = \"summer\")"
   ]
  },
  {
   "cell_type": "code",
   "execution_count": null,
   "id": "6372e7a3",
   "metadata": {},
   "outputs": [],
   "source": []
  },
  {
   "cell_type": "code",
   "execution_count": 292,
   "id": "2c4562c9",
   "metadata": {},
   "outputs": [
    {
     "name": "stdout",
     "output_type": "stream",
     "text": [
      "0.6848659003831418\n",
      "0.683206106870229\n",
      "0.6690780974750441\n"
     ]
    },
    {
     "data": {
      "text/plain": [
       "<AxesSubplot:>"
      ]
     },
     "execution_count": 292,
     "metadata": {},
     "output_type": "execute_result"
    },
    {
     "data": {
      "image/png": "[encoded data removed]",
      "text/plain": [
       "<Figure size 432x288 with 2 Axes>"
      ]
     },
     "metadata": {
      "needs_background": "light"
     },
     "output_type": "display_data"
    }
   ],
   "source": [
    "lr_3_2 = LogisticRegression()\n",
    "x_train,x_test,y_train,y_test = train_test_split(X_3_2,y_2,test_size = 0.2,random_state = 1)\n",
    "lr_3_2.fit(x_train,y_train)\n",
    "pred1 = lr_3_2.predict(x_train)\n",
    "pred2 = lr_3_2.predict(x_test)\n",
    "print(accuracy_score(y_train,pred1))\n",
    "print(accuracy_score(y_test,pred2))\n",
    "\n",
    "print(cross_val_score(lr_3_2,X_3_2,y_2,cv = 10).mean())\n",
    "\n",
    "sns.heatmap(confusion_matrix(y_test,pred2),annot = True,fmt = \"3.0f\",cmap = \"summer\")"
   ]
  },
  {
   "cell_type": "code",
   "execution_count": null,
   "id": "0736fa41",
   "metadata": {},
   "outputs": [],
   "source": []
  },
  {
   "cell_type": "code",
   "execution_count": 414,
   "id": "6d2f65b6",
   "metadata": {},
   "outputs": [
    {
     "name": "stdout",
     "output_type": "stream",
     "text": [
      "0.7998084291187739\n",
      "0.8740458015267175\n",
      "0.7985085143863769\n"
     ]
    },
    {
     "data": {
      "text/plain": [
       "<AxesSubplot:>"
      ]
     },
     "execution_count": 414,
     "metadata": {},
     "output_type": "execute_result"
    },
    {
     "data": {
      "image/png": "[encoded data removed]",
      "text/plain": [
       "<Figure size 432x288 with 2 Axes>"
      ]
     },
     "metadata": {
      "needs_background": "light"
     },
     "output_type": "display_data"
    }
   ],
   "source": [
    "svc_1 = SVC()\n",
    "x_train,x_test,y_train,y_test = train_test_split(X_1,y_2,test_size = 0.2,random_state = 5)\n",
    "svc_1.fit(x_train,y_train)\n",
    "pred1 = svc_1.predict(x_train)\n",
    "pred2 = svc_1.predict(x_test)\n",
    "print(accuracy_score(y_train,pred1))\n",
    "print(accuracy_score(y_test,pred2))\n",
    "\n",
    "print(cross_val_score(svc_1,X_1,y_2,cv = 10).mean())\n",
    "\n",
    "sns.heatmap(confusion_matrix(y_test,pred2),annot = True,fmt = \"3.0f\",cmap = \"summer\")"
   ]
  },
  {
   "cell_type": "code",
   "execution_count": null,
   "id": "e622d399",
   "metadata": {},
   "outputs": [],
   "source": []
  },
  {
   "cell_type": "code",
   "execution_count": 408,
   "id": "7145f8ea",
   "metadata": {},
   "outputs": [
    {
     "name": "stdout",
     "output_type": "stream",
     "text": [
      "0.8160919540229885\n",
      "0.8282442748091603\n",
      "0.7830886670581327\n"
     ]
    },
    {
     "data": {
      "text/plain": [
       "<AxesSubplot:>"
      ]
     },
     "execution_count": 408,
     "metadata": {},
     "output_type": "execute_result"
    },
    {
     "data": {
      "image/png": "[encoded data removed]",
      "text/plain": [
       "<Figure size 432x288 with 2 Axes>"
      ]
     },
     "metadata": {
      "needs_background": "light"
     },
     "output_type": "display_data"
    }
   ],
   "source": [
    "svc_2 = SVC()\n",
    "x_train,x_test,y_train,y_test = train_test_split(X_2,y_2,test_size = 0.2,random_state = 1)\n",
    "svc_2.fit(x_train,y_train)\n",
    "pred1 = svc_2.predict(x_train)\n",
    "pred2 = svc_2.predict(x_test)\n",
    "print(accuracy_score(y_train,pred1))\n",
    "print(accuracy_score(y_test,pred2))\n",
    "\n",
    "print(cross_val_score(svc_2,X_2,y_2,cv = 10).mean())\n",
    "\n",
    "sns.heatmap(confusion_matrix(y_test,pred2),annot = True,fmt = \"3.0f\",cmap = \"summer\")"
   ]
  },
  {
   "cell_type": "code",
   "execution_count": null,
   "id": "c0a46e1a",
   "metadata": {},
   "outputs": [],
   "source": []
  },
  {
   "cell_type": "code",
   "execution_count": 413,
   "id": "e8fc70dd",
   "metadata": {},
   "outputs": [
    {
     "name": "stdout",
     "output_type": "stream",
     "text": [
      "0.8122605363984674\n",
      "0.8244274809160306\n",
      "0.7985085143863769\n"
     ]
    },
    {
     "data": {
      "text/plain": [
       "<AxesSubplot:>"
      ]
     },
     "execution_count": 413,
     "metadata": {},
     "output_type": "execute_result"
    },
    {
     "data": {
      "image/png": "[encoded data removed]",
      "text/plain": [
       "<Figure size 432x288 with 2 Axes>"
      ]
     },
     "metadata": {
      "needs_background": "light"
     },
     "output_type": "display_data"
    }
   ],
   "source": [
    "svc_3 = SVC()\n",
    "x_train,x_test,y_train,y_test = train_test_split(X_3,y_2,test_size = 0.2,random_state = 1)\n",
    "svc_3.fit(x_train,y_train)\n",
    "pred1 = svc_3.predict(x_train)\n",
    "pred2 = svc_3.predict(x_test)\n",
    "print(accuracy_score(y_train,pred1))\n",
    "print(accuracy_score(y_test,pred2))\n",
    "\n",
    "print(cross_val_score(svc_3,X_3,y_2,cv = 10).mean())\n",
    "\n",
    "sns.heatmap(confusion_matrix(y_test,pred2),annot = True,fmt = \"3.0f\",cmap = \"summer\")"
   ]
  },
  {
   "cell_type": "code",
   "execution_count": null,
   "id": "c57c296e",
   "metadata": {},
   "outputs": [],
   "source": []
  },
  {
   "cell_type": "code",
   "execution_count": 406,
   "id": "ba10d85e",
   "metadata": {},
   "outputs": [
    {
     "name": "stdout",
     "output_type": "stream",
     "text": [
      "0.8160919540229885\n",
      "0.8320610687022901\n",
      "0.7838578978273635\n"
     ]
    },
    {
     "data": {
      "text/plain": [
       "<AxesSubplot:>"
      ]
     },
     "execution_count": 406,
     "metadata": {},
     "output_type": "execute_result"
    },
    {
     "data": {
      "image/png": "[encoded data removed]",
      "text/plain": [
       "<Figure size 432x288 with 2 Axes>"
      ]
     },
     "metadata": {
      "needs_background": "light"
     },
     "output_type": "display_data"
    }
   ],
   "source": [
    "svc_2_1 = SVC()\n",
    "x_train,x_test,y_train,y_test = train_test_split(X_2_1,y_2,test_size = 0.2,random_state = 1)\n",
    "svc_2_1.fit(x_train,y_train)\n",
    "pred1 = svc_2_1.predict(x_train)\n",
    "pred2 = svc_2_1.predict(x_test)\n",
    "print(accuracy_score(y_train,pred1))\n",
    "print(accuracy_score(y_test,pred2))\n",
    "\n",
    "print(cross_val_score(svc_2_1,X_2_1,y_2,cv = 10).mean())\n",
    "\n",
    "sns.heatmap(confusion_matrix(y_test,pred2),annot = True,fmt = \"3.0f\",cmap = \"summer\")"
   ]
  },
  {
   "cell_type": "code",
   "execution_count": null,
   "id": "dce474ac",
   "metadata": {},
   "outputs": [],
   "source": []
  },
  {
   "cell_type": "code",
   "execution_count": 405,
   "id": "f0822b87",
   "metadata": {},
   "outputs": [
    {
     "name": "stdout",
     "output_type": "stream",
     "text": [
      "0.8170498084291188\n",
      "0.8587786259541985\n",
      "0.7563123899001762\n"
     ]
    },
    {
     "data": {
      "text/plain": [
       "<AxesSubplot:>"
      ]
     },
     "execution_count": 405,
     "metadata": {},
     "output_type": "execute_result"
    },
    {
     "data": {
      "image/png": "[encoded data removed]",
      "text/plain": [
       "<Figure size 432x288 with 2 Axes>"
      ]
     },
     "metadata": {
      "needs_background": "light"
     },
     "output_type": "display_data"
    }
   ],
   "source": [
    "svc_2_2 = SVC()\n",
    "x_train,x_test,y_train,y_test = train_test_split(X_2_2,y_2,test_size = 0.2,random_state = 5)\n",
    "svc_2_2.fit(x_train,y_train)\n",
    "pred1 = svc_2_2.predict(x_train)\n",
    "pred2 = svc_2_2.predict(x_test)\n",
    "print(accuracy_score(y_train,pred1))\n",
    "print(accuracy_score(y_test,pred2))\n",
    "\n",
    "print(cross_val_score(svc_2_2,X_2_2,y_2,cv = 10).mean())\n",
    "\n",
    "sns.heatmap(confusion_matrix(y_test,pred2),annot = True,fmt = \"3.0f\",cmap = \"summer\")"
   ]
  },
  {
   "cell_type": "code",
   "execution_count": null,
   "id": "23c7055f",
   "metadata": {},
   "outputs": [],
   "source": []
  },
  {
   "cell_type": "code",
   "execution_count": 403,
   "id": "90f2f742",
   "metadata": {},
   "outputs": [
    {
     "name": "stdout",
     "output_type": "stream",
     "text": [
      "0.7959770114942529\n",
      "0.8053435114503816\n",
      "0.7824251321197886\n"
     ]
    },
    {
     "data": {
      "text/plain": [
       "<AxesSubplot:>"
      ]
     },
     "execution_count": 403,
     "metadata": {},
     "output_type": "execute_result"
    },
    {
     "data": {
      "image/png": "[encoded data removed]",
      "text/plain": [
       "<Figure size 432x288 with 2 Axes>"
      ]
     },
     "metadata": {
      "needs_background": "light"
     },
     "output_type": "display_data"
    }
   ],
   "source": [
    "svc_3_1 = SVC()\n",
    "x_train,x_test,y_train,y_test = train_test_split(X_3_1,y_2,test_size = 0.2,random_state = 1)\n",
    "svc_3_1.fit(x_train,y_train)\n",
    "pred1 = svc_3_1.predict(x_train)\n",
    "pred2 = svc_3_1.predict(x_test)\n",
    "print(accuracy_score(y_train,pred1))\n",
    "print(accuracy_score(y_test,pred2))\n",
    "\n",
    "print(cross_val_score(svc_3_1,X_3_1,y_2,cv = 10).mean())\n",
    "\n",
    "sns.heatmap(confusion_matrix(y_test,pred2),annot = True,fmt = \"3.0f\",cmap = \"summer\")"
   ]
  },
  {
   "cell_type": "code",
   "execution_count": null,
   "id": "c159f417",
   "metadata": {},
   "outputs": [],
   "source": []
  },
  {
   "cell_type": "code",
   "execution_count": 404,
   "id": "b6f71abc",
   "metadata": {},
   "outputs": [
    {
     "name": "stdout",
     "output_type": "stream",
     "text": [
      "0.7873563218390804\n",
      "0.732824427480916\n",
      "0.734286553141515\n"
     ]
    },
    {
     "data": {
      "text/plain": [
       "<AxesSubplot:>"
      ]
     },
     "execution_count": 404,
     "metadata": {},
     "output_type": "execute_result"
    },
    {
     "data": {
      "image/png": "[encoded data removed]",
      "text/plain": [
       "<Figure size 432x288 with 2 Axes>"
      ]
     },
     "metadata": {
      "needs_background": "light"
     },
     "output_type": "display_data"
    }
   ],
   "source": [
    "svc_3_2 = SVC()\n",
    "x_train,x_test,y_train,y_test = train_test_split(X_3_2,y_2,test_size = 0.2,random_state = 1)\n",
    "svc_3_2.fit(x_train,y_train)\n",
    "pred1 = svc_3_2.predict(x_train)\n",
    "pred2 = svc_3_2.predict(x_test)\n",
    "print(accuracy_score(y_train,pred1))\n",
    "print(accuracy_score(y_test,pred2))\n",
    "\n",
    "print(cross_val_score(svc_3_2,X_3_2,y_2,cv = 10).mean())\n",
    "\n",
    "sns.heatmap(confusion_matrix(y_test,pred2),annot = True,fmt = \"3.0f\",cmap = \"summer\")"
   ]
  },
  {
   "cell_type": "code",
   "execution_count": null,
   "id": "8fc39afd",
   "metadata": {},
   "outputs": [],
   "source": []
  },
  {
   "cell_type": "code",
   "execution_count": null,
   "id": "4bc42c43",
   "metadata": {},
   "outputs": [],
   "source": []
  },
  {
   "cell_type": "code",
   "execution_count": null,
   "id": "9d89af46",
   "metadata": {},
   "outputs": [],
   "source": []
  },
  {
   "cell_type": "code",
   "execution_count": null,
   "id": "acf94813",
   "metadata": {},
   "outputs": [],
   "source": []
  },
  {
   "cell_type": "code",
   "execution_count": 400,
   "id": "968810cf",
   "metadata": {},
   "outputs": [
    {
     "name": "stdout",
     "output_type": "stream",
     "text": [
      "0.8630268199233716\n",
      "0.7786259541984732\n",
      "0.7386376981796829\n"
     ]
    },
    {
     "data": {
      "text/plain": [
       "<AxesSubplot:>"
      ]
     },
     "execution_count": 400,
     "metadata": {},
     "output_type": "execute_result"
    },
    {
     "data": {
      "image/png": "[encoded data removed]",
      "text/plain": [
       "<Figure size 432x288 with 2 Axes>"
      ]
     },
     "metadata": {
      "needs_background": "light"
     },
     "output_type": "display_data"
    }
   ],
   "source": [
    "rf_1 = RandomForestClassifier()\n",
    "x_train,x_test,y_train,y_test = train_test_split(X_1,y_2,test_size = 0.2,random_state = 2)\n",
    "rf_1.fit(x_train,y_train)\n",
    "pred1 = rf_1.predict(x_train)\n",
    "pred2 = rf_1.predict(x_test)\n",
    "print(accuracy_score(y_train,pred1))\n",
    "print(accuracy_score(y_test,pred2))\n",
    "\n",
    "print(cross_val_score(rf_1,X_1,y_2,cv = 10).mean())\n",
    "\n",
    "sns.heatmap(confusion_matrix(y_test,pred2),annot = True,fmt = \"3.0f\",cmap = \"summer\")"
   ]
  },
  {
   "cell_type": "code",
   "execution_count": null,
   "id": "d7d0e2f6",
   "metadata": {},
   "outputs": [],
   "source": []
  },
  {
   "cell_type": "code",
   "execution_count": 402,
   "id": "97b3efe7",
   "metadata": {},
   "outputs": [
    {
     "name": "stdout",
     "output_type": "stream",
     "text": [
      "0.8563218390804598\n",
      "0.8320610687022901\n",
      "0.7340575455079272\n"
     ]
    },
    {
     "data": {
      "text/plain": [
       "<AxesSubplot:>"
      ]
     },
     "execution_count": 402,
     "metadata": {},
     "output_type": "execute_result"
    },
    {
     "data": {
      "image/png": "[encoded data removed]",
      "text/plain": [
       "<Figure size 432x288 with 2 Axes>"
      ]
     },
     "metadata": {
      "needs_background": "light"
     },
     "output_type": "display_data"
    }
   ],
   "source": [
    "rf_2 = RandomForestClassifier()\n",
    "x_train,x_test,y_train,y_test = train_test_split(X_2,y_2,test_size = 0.2,random_state = 5)\n",
    "rf_2.fit(x_train,y_train)\n",
    "pred1 = rf_2.predict(x_train)\n",
    "pred2 = rf_2.predict(x_test)\n",
    "print(accuracy_score(y_train,pred1))\n",
    "print(accuracy_score(y_test,pred2))\n",
    "\n",
    "print(cross_val_score(rf_2,X_2,y_2,cv = 10).mean())\n",
    "\n",
    "sns.heatmap(confusion_matrix(y_test,pred2),annot = True,fmt = \"3.0f\",cmap = \"summer\")"
   ]
  },
  {
   "cell_type": "code",
   "execution_count": null,
   "id": "c5c83714",
   "metadata": {},
   "outputs": [],
   "source": []
  },
  {
   "cell_type": "code",
   "execution_count": 301,
   "id": "50312f21",
   "metadata": {},
   "outputs": [
    {
     "name": "stdout",
     "output_type": "stream",
     "text": [
      "0.8563218390804598\n",
      "0.8320610687022901\n",
      "0.7355901350557839\n"
     ]
    },
    {
     "data": {
      "text/plain": [
       "<AxesSubplot:>"
      ]
     },
     "execution_count": 301,
     "metadata": {},
     "output_type": "execute_result"
    },
    {
     "data": {
      "image/png": "[encoded data removed]",
      "text/plain": [
       "<Figure size 432x288 with 2 Axes>"
      ]
     },
     "metadata": {
      "needs_background": "light"
     },
     "output_type": "display_data"
    }
   ],
   "source": [
    "rf_3 = RandomForestClassifier()\n",
    "x_train,x_test,y_train,y_test = train_test_split(X_3,y_2,test_size = 0.2,random_state = 5)\n",
    "rf_3.fit(x_train,y_train)\n",
    "pred1 = rf_3.predict(x_train)\n",
    "pred2 = rf_3.predict(x_test)\n",
    "print(accuracy_score(y_train,pred1))\n",
    "print(accuracy_score(y_test,pred2))\n",
    "\n",
    "print(cross_val_score(rf_3,X_3,y_2,cv = 10).mean())\n",
    "\n",
    "sns.heatmap(confusion_matrix(y_test,pred2),annot = True,fmt = \"3.0f\",cmap = \"summer\")"
   ]
  },
  {
   "cell_type": "code",
   "execution_count": null,
   "id": "1d44213f",
   "metadata": {},
   "outputs": [],
   "source": []
  },
  {
   "cell_type": "code",
   "execution_count": 302,
   "id": "fcf0b686",
   "metadata": {},
   "outputs": [
    {
     "name": "stdout",
     "output_type": "stream",
     "text": [
      "0.8553639846743295\n",
      "0.8396946564885496\n",
      "0.7340516735173224\n"
     ]
    },
    {
     "data": {
      "text/plain": [
       "<AxesSubplot:>"
      ]
     },
     "execution_count": 302,
     "metadata": {},
     "output_type": "execute_result"
    },
    {
     "data": {
      "image/png": "[encoded data removed]",
      "text/plain": [
       "<Figure size 432x288 with 2 Axes>"
      ]
     },
     "metadata": {
      "needs_background": "light"
     },
     "output_type": "display_data"
    }
   ],
   "source": [
    "rf_2_1 = RandomForestClassifier()\n",
    "x_train,x_test,y_train,y_test = train_test_split(X_2_1,y_2,test_size = 0.2,random_state = 5)\n",
    "rf_2_1.fit(x_train,y_train)\n",
    "pred1 = rf_2_1.predict(x_train)\n",
    "pred2 = rf_2_1.predict(x_test)\n",
    "print(accuracy_score(y_train,pred1))\n",
    "print(accuracy_score(y_test,pred2))\n",
    "\n",
    "print(cross_val_score(rf_2_1,X_2_1,y_2,cv = 10).mean())\n",
    "\n",
    "sns.heatmap(confusion_matrix(y_test,pred2),annot = True,fmt = \"3.0f\",cmap = \"summer\")"
   ]
  },
  {
   "cell_type": "code",
   "execution_count": null,
   "id": "15e83c09",
   "metadata": {},
   "outputs": [],
   "source": []
  },
  {
   "cell_type": "code",
   "execution_count": 303,
   "id": "b6a4dfe4",
   "metadata": {},
   "outputs": [
    {
     "name": "stdout",
     "output_type": "stream",
     "text": [
      "0.8563218390804598\n",
      "0.8396946564885496\n",
      "0.7371109806224311\n"
     ]
    },
    {
     "data": {
      "text/plain": [
       "<AxesSubplot:>"
      ]
     },
     "execution_count": 303,
     "metadata": {},
     "output_type": "execute_result"
    },
    {
     "data": {
      "image/png": "[encoded data removed]",
      "text/plain": [
       "<Figure size 432x288 with 2 Axes>"
      ]
     },
     "metadata": {
      "needs_background": "light"
     },
     "output_type": "display_data"
    }
   ],
   "source": [
    "rf_2_2 = RandomForestClassifier()\n",
    "x_train,x_test,y_train,y_test = train_test_split(X_2_2,y_2,test_size = 0.2,random_state = 5)\n",
    "rf_2_2.fit(x_train,y_train)\n",
    "pred1 = rf_2_2.predict(x_train)\n",
    "pred2 = rf_2_2.predict(x_test)\n",
    "print(accuracy_score(y_train,pred1))\n",
    "print(accuracy_score(y_test,pred2))\n",
    "\n",
    "print(cross_val_score(rf_2_2,X_2_2,y_2,cv = 10).mean())\n",
    "\n",
    "sns.heatmap(confusion_matrix(y_test,pred2),annot = True,fmt = \"3.0f\",cmap = \"summer\")"
   ]
  },
  {
   "cell_type": "code",
   "execution_count": null,
   "id": "e2cded14",
   "metadata": {},
   "outputs": [],
   "source": []
  },
  {
   "cell_type": "code",
   "execution_count": 304,
   "id": "ea04c3ff",
   "metadata": {},
   "outputs": [
    {
     "name": "stdout",
     "output_type": "stream",
     "text": [
      "0.8515325670498084\n",
      "0.8244274809160306\n",
      "0.7348502642395773\n"
     ]
    },
    {
     "data": {
      "text/plain": [
       "<AxesSubplot:>"
      ]
     },
     "execution_count": 304,
     "metadata": {},
     "output_type": "execute_result"
    },
    {
     "data": {
      "image/png": "[encoded data removed]",
      "text/plain": [
       "<Figure size 432x288 with 2 Axes>"
      ]
     },
     "metadata": {
      "needs_background": "light"
     },
     "output_type": "display_data"
    }
   ],
   "source": [
    "rf_3_1 = RandomForestClassifier()\n",
    "x_train,x_test,y_train,y_test = train_test_split(X_3_1,y_2,test_size = 0.2,random_state = 5)\n",
    "rf_3_1.fit(x_train,y_train)\n",
    "pred1 = rf_3_1.predict(x_train)\n",
    "pred2 = rf_3_1.predict(x_test)\n",
    "print(accuracy_score(y_train,pred1))\n",
    "print(accuracy_score(y_test,pred2))\n",
    "\n",
    "print(cross_val_score(rf_3_1,X_3_1,y_2,cv = 10).mean())\n",
    "\n",
    "sns.heatmap(confusion_matrix(y_test,pred2),annot = True,fmt = \"3.0f\",cmap = \"summer\")"
   ]
  },
  {
   "cell_type": "code",
   "execution_count": null,
   "id": "1a1a0262",
   "metadata": {},
   "outputs": [],
   "source": []
  },
  {
   "cell_type": "code",
   "execution_count": 306,
   "id": "635020c4",
   "metadata": {},
   "outputs": [
    {
     "name": "stdout",
     "output_type": "stream",
     "text": [
      "0.8563218390804598\n",
      "0.8091603053435115\n",
      "0.7081033470346447\n"
     ]
    },
    {
     "data": {
      "text/plain": [
       "<AxesSubplot:>"
      ]
     },
     "execution_count": 306,
     "metadata": {},
     "output_type": "execute_result"
    },
    {
     "data": {
      "image/png": "[encoded data removed]",
      "text/plain": [
       "<Figure size 432x288 with 2 Axes>"
      ]
     },
     "metadata": {
      "needs_background": "light"
     },
     "output_type": "display_data"
    }
   ],
   "source": [
    "rf_3_2 = RandomForestClassifier()\n",
    "x_train,x_test,y_train,y_test = train_test_split(X_3_2,y_2,test_size = 0.2,random_state = 5)\n",
    "rf_3_2.fit(x_train,y_train)\n",
    "pred1 = rf_3_2.predict(x_train)\n",
    "pred2 = rf_3_2.predict(x_test)\n",
    "print(accuracy_score(y_train,pred1))\n",
    "print(accuracy_score(y_test,pred2))\n",
    "\n",
    "print(cross_val_score(rf_3_2,X_3_2,y_2,cv = 10).mean())\n",
    "\n",
    "sns.heatmap(confusion_matrix(y_test,pred2),annot = True,fmt = \"3.0f\",cmap = \"summer\")"
   ]
  },
  {
   "cell_type": "code",
   "execution_count": null,
   "id": "617baf4f",
   "metadata": {},
   "outputs": [],
   "source": []
  },
  {
   "cell_type": "markdown",
   "id": "4390af88",
   "metadata": {},
   "source": [
    "# Conclusion\n",
    "\n",
    "## From above data the best validating score is 0.7985 by SVC from 1 and 3rd datasets"
   ]
  },
  {
   "cell_type": "code",
   "execution_count": 411,
   "id": "78261e7a",
   "metadata": {},
   "outputs": [
    {
     "name": "stdout",
     "output_type": "stream",
     "text": [
      "0.7985085143863769\n",
      "0.7985085143863769\n"
     ]
    }
   ],
   "source": [
    "print(cross_val_score(svc_1,X_1,y_2,cv = 10).mean())\n",
    "print(cross_val_score(svc_3,X_3,y_2,cv = 10).mean())"
   ]
  },
  {
   "cell_type": "code",
   "execution_count": 412,
   "id": "120b36b6",
   "metadata": {},
   "outputs": [
    {
     "name": "stdout",
     "output_type": "stream",
     "text": [
      "0.8039794496691047\n",
      "0.8039794496691047\n"
     ]
    }
   ],
   "source": [
    "print(cross_val_score(svc_1,X_1,y_2,cv = 15).mean())\n",
    "print(cross_val_score(svc_3,X_3,y_2,cv = 15).mean())"
   ]
  },
  {
   "cell_type": "code",
   "execution_count": 415,
   "id": "f1b33e34",
   "metadata": {},
   "outputs": [
    {
     "name": "stdout",
     "output_type": "stream",
     "text": [
      "0.8046037296037296\n",
      "0.8046037296037296\n"
     ]
    }
   ],
   "source": [
    "print(cross_val_score(svc_1,X_1,y_2,cv = 20).mean())\n",
    "print(cross_val_score(svc_3,X_3,y_2,cv = 20).mean())"
   ]
  },
  {
   "cell_type": "markdown",
   "id": "f343dabc",
   "metadata": {},
   "source": [
    "## So it is best to use either dataset with SVC model"
   ]
  },
  {
   "cell_type": "code",
   "execution_count": null,
   "id": "a043725a",
   "metadata": {},
   "outputs": [],
   "source": []
  }
 ],
 "metadata": {
  "kernelspec": {
   "display_name": "Python 3 (ipykernel)",
   "language": "python",
   "name": "python3"
  },
  "language_info": {
   "codemirror_mode": {
    "name": "ipython",
    "version": 3
   },
   "file_extension": ".py",
   "mimetype": "text/x-python",
   "name": "python",
   "nbconvert_exporter": "python",
   "pygments_lexer": "ipython3",
   "version": "3.9.7"
  }
 },
 "nbformat": 4,
 "nbformat_minor": 5
}
